{
 "cells": [
  {
   "cell_type": "markdown",
   "metadata": {},
   "source": [
    "# Ultrafast current imaging by Bayesian inversion\n",
    "**Nature Communications,** 6<sup>th</sup> November 2017\n",
    "\n",
    "__S. Somnath<sup>1,2,3</sup>, K. J.  H. Law<sup>1,4</sup>, A. N. Morozovska<sup>5</sup>, P. Maksymovych<sup>1,2</sup>, Y. Kim<sup>6</sup>, X. Lu<sup>7</sup>, \n",
    "M. Alexe<sup>8</sup>, R. Archibald<sup>1,4</sup>, S. V. Kalinin<sup>1,2</sup>, S. Jesse<sup>1,2</sup> and R. K. Vasudevan<sup>1,2</sup>__\n",
    "\n",
    "1. Institute for Functional Imaging of Materials, \n",
    "2. Center for Nanophase Materials Sciences,  \n",
    "3. Advanced Data and Workflows Group, and\n",
    "4. Computer Science and Mathematics Division, \n",
    "Oak Ridge National Laboratory, Oak Ridge TN 37831, USA\n",
    "\n",
    "5. Institute of Physics, National Academy of Sciences of Ukraine, 46, pr. Nauky, 03028 Kyiv, Ukraine\n",
    "6. School of Advanced Materials Science and Engineering, Sungkyunkwan University (SKKU), Suwon 16419, Republic of Korea\n",
    "7. The State Key Discipline Laboratory of Wide Band Gap Semiconductor Technology, Xidian University, Xi’an, Shaanxi 710071, China\n",
    "8. Department of Physics, University of Warwick, Coventry CV4 7AL, United Kingdom"
   ]
  },
  {
   "cell_type": "markdown",
   "metadata": {},
   "source": [
    "## Installing required packages:\n",
    "\n",
    "This notebook was written for the following version of the packages and is **not guaranteed** to work on past or future versions of the packages:\n",
    "* pycroscopy - 0.59.4"
   ]
  },
  {
   "cell_type": "code",
   "execution_count": null,
   "metadata": {},
   "outputs": [],
   "source": [
    "!pip install h5py matplotlib numpy scipy sklearn pycroscopy\n",
    "\n",
    "# Checks Python Version\n",
    "import sys\n",
    "if sys.version_info < (3, 5):\n",
    "    print('''This notebook was optimized to work on Python 3.5. \n",
    "    While it may also run on other Python versions, \n",
    "    functionality and performance are not guaranteed\n",
    "    Please consider upgrading your python version.''')"
   ]
  },
  {
   "cell_type": "markdown",
   "metadata": {},
   "source": [
    "## Importing libraries and setting up the notebook"
   ]
  },
  {
   "cell_type": "code",
   "execution_count": null,
   "metadata": {},
   "outputs": [],
   "source": [
    "# Ensure that this code works on both python 2 and python 3\n",
    "from __future__ import division, print_function, absolute_import, unicode_literals\n",
    "\n",
    "# basic numeric computation:\n",
    "import numpy as np\n",
    "\n",
    "# Image manipulation\n",
    "from scipy.ndimage import zoom\n",
    "\n",
    "# The package used for creating and manipulating HDF5 files:\n",
    "import h5py\n",
    "\n",
    "# Plotting and visualization:\n",
    "import matplotlib.pyplot as plt\n",
    "# set up notebook to show plots within the notebook\n",
    "% matplotlib inline\n",
    "\n",
    "# Data mining\n",
    "import scipy\n",
    "from sklearn.cluster import KMeans\n",
    "\n",
    "# Miscellaneous pacakges\n",
    "import os\n",
    "import sys\n",
    "import time as tm\n",
    "\n",
    "# For the main processing, analysis, I/O and visualization functions\n",
    "import pycroscopy as px"
   ]
  },
  {
   "cell_type": "markdown",
   "metadata": {},
   "source": [
    "## Defining a few handy plot functions:"
   ]
  },
  {
   "cell_type": "code",
   "execution_count": null,
   "metadata": {
    "collapsed": true
   },
   "outputs": [],
   "source": [
    "def twin_img_plots(img_list, titles, **kwargs):\n",
    "    if len(img_list) != len(titles):\n",
    "        return None\n",
    "    fig, axes = plt.subplots(ncols=len(img_list), figsize=(11.5, 5))\n",
    "    for axis, img, title in zip(axes.flat, img_list, titles):\n",
    "        im_handle, cbar_handle = px.plot_utils.plot_map(axis, img, **kwargs)\n",
    "        axis.set_title(title, fontsize=16)\n",
    "        axis.set_xlabel('X ($\\mu$m)', fontsize=16)\n",
    "    axes[0].set_ylabel('Y ($\\mu$m)', fontsize=16)\n",
    "    fig.tight_layout()\n",
    "    return fig, axes\n",
    "\n",
    "def plot_cluster_results_separately(labels_mat, cluster_centroids, bias_vec, legend_mode=1, **kwargs):\n",
    "    num_clusters = cluster_centroids.shape[0]\n",
    "    fig_lab, axis_lab = plt.subplots(figsize=(5.5,5))\n",
    "    _, _ = px.plot_utils.plot_map(axis_lab, labels_mat, \n",
    "                                              clim=[0, num_clusters-1], \n",
    "                                              cmap=plt.get_cmap('viridis', num_clusters), \n",
    "                                              aspect='auto', show_xy_ticks=True, **kwargs)\n",
    "    axis_lab.set_xlabel('X ($\\mu$m)', fontsize=16)\n",
    "    axis_lab.set_ylabel('Y ($\\mu$m)', fontsize=16)\n",
    "    axis_lab.set_title('K-Means Cluster Labels', fontsize=16)\n",
    "    fig_lab.tight_layout()\n",
    "\n",
    "    # Plot centroids\n",
    "    fig_width = 5.0\n",
    "    if legend_mode not in [0, 1]:\n",
    "        fig_width = 5.85\n",
    "    fig_centroids, axis_centroids = plt.subplots(figsize=(fig_width, 5))\n",
    "    colors = [ plt.cm.viridis(x) for x in np.linspace(0, 1, cluster_centroids.shape[0]) ]\n",
    "\n",
    "    # print('Number of pixels in each cluster:')\n",
    "    for line_ind in range(cluster_centroids.shape[0]):\n",
    "        cmap=plt.cm.jet\n",
    "        line_color=colors[line_ind]\n",
    "        line_label = 'Cluster ' + str(line_ind)\n",
    "        num_of_cluster_members = len(np.where(labels==line_ind)[0])\n",
    "        # print (\"Cluster \" + str(line_ind) + ': ' + str(num_of_cluster_members))\n",
    "        if num_of_cluster_members > 10:\n",
    "            axis_centroids.plot(bias_vec, cluster_centroids[line_ind,:], \n",
    "                                label=line_label, color=line_color) # marker='o', \n",
    "    axis_centroids.set_xlabel('Voltage (V)', fontsize=16)\n",
    "    axis_centroids.set_ylabel('Current (nA)', fontsize=16)\n",
    "    axis_centroids.set_title('K-Means Cluster Centroids', fontsize=16)\n",
    "    if legend_mode==0:\n",
    "        axis_centroids.legend(loc='lower right', fontsize=14)\n",
    "    elif legend_mode==1:\n",
    "        axis_centroids.legend(loc='upper left', bbox_to_anchor=(1, 1), fontsize=14)\n",
    "    else:\n",
    "        sm = px.plot_utils.make_scalar_mappable(0, num_clusters-1, \n",
    "                                               cmap=px.plot_utils.discrete_cmap(num_clusters))\n",
    "        plt.colorbar(sm)\n",
    "    px.plot_utils.set_tick_font_size(axis_centroids, 14)\n",
    "    fig_centroids.tight_layout()\n",
    "    \n",
    "    return fig_lab, fig_centroids"
   ]
  },
  {
   "cell_type": "markdown",
   "metadata": {},
   "source": [
    "## Selecting the gIV Dataset\n",
    "Also setting up some basic parameters"
   ]
  },
  {
   "cell_type": "code",
   "execution_count": null,
   "metadata": {},
   "outputs": [],
   "source": [
    "# Load the raw dataset\n",
    "h5_path = px.io_utils.uiGetFile('*.h5', 'G-mode IV dataset')\n",
    "\n",
    "if not os.path.exists(h5_path):\n",
    "    raise FileExistsError('Please check your file path. This file does not exist')\n",
    "    \n",
    "print('Working on:\\n',h5_path)\n",
    "\n",
    "# Store some basic parameters in memory\n",
    "folder_path, filename = os.path.split(h5_path)\n",
    "try:\n",
    "    os.mkdir(os.path.join(folder_path, 'GIV_Paper_Figures'))\n",
    "except FileExistsError:\n",
    "    pass\n",
    "\n",
    "try:\n",
    "    os.mkdir(os.path.join(folder_path, 'GIV_Other_Figures'))\n",
    "except FileExistsError:\n",
    "    pass\n",
    "\n",
    "figure_folder = os.path.join(folder_path, 'GIV_Paper_Figures')\n",
    "other_figures_folder = os.path.join(folder_path, 'GIV_Other_Figures')"
   ]
  },
  {
   "cell_type": "markdown",
   "metadata": {},
   "source": [
    "## Loading the Data\n",
    "Also loading ancillary datasets and necessary parameters"
   ]
  },
  {
   "cell_type": "code",
   "execution_count": null,
   "metadata": {},
   "outputs": [],
   "source": [
    "h5_f = h5py.File(h5_path, 'r+')\n",
    "h5_grp = h5_f['Measurement_000/Channel_000']\n",
    "\n",
    "# This is the reference to the raw data as it was acquired from the microscope\n",
    "h5_main = h5_grp['Raw_Data']\n",
    "print('Raw data is of shape:', h5_main.shape)\n",
    "\n",
    "num_lines = h5_main.shape[0]\n",
    "num_pts = h5_main.shape[1]\n",
    "\n",
    "# Reading experimental parameters:\n",
    "scan_width = h5_grp.attrs['grid_scan_width_[m]']*1E+6\n",
    "samp_rate = h5_grp.attrs['IO_samp_rate_[Hz]']\n",
    "ex_freq = h5_grp.attrs['excitation_frequency_[Hz]']\n",
    "\n",
    "# Getting ancillary information and other parameters\n",
    "h5_spec_vals = px.hdf_utils.getAuxData(h5_main, auxDataName=['Spectroscopic_Values'])[0]\n",
    "\n",
    "# Excitation waveform for a single line / row of data\n",
    "excit_wfm = h5_spec_vals.value\n",
    "\n",
    "# We expect each pixel to have a single period of the sinusoidal excitation\n",
    "# Calculating the excitation waveform for a single pixel\n",
    "pts_per_cycle = int(np.round(samp_rate/ex_freq))\n",
    "single_AO = excit_wfm[0, :pts_per_cycle]\n",
    "\n",
    "# Number of pixels within a line:\n",
    "num_cols = int(h5_main.shape[1] / single_AO.size)\n",
    "\n",
    "print('Number of pixels:', num_cols, ', each with points:', single_AO.shape)\n",
    "\n",
    "ex_amp = h5_grp.attrs['excitation_amplitude_[V]']"
   ]
  },
  {
   "cell_type": "markdown",
   "metadata": {},
   "source": [
    "## Visualizing raw data:\n",
    "Here we will inspect what the IV curves look like for a single scan line. \n",
    "\n",
    "Note the significant hysteresis in the IV curves."
   ]
  },
  {
   "cell_type": "code",
   "execution_count": null,
   "metadata": {},
   "outputs": [],
   "source": [
    "row_ind = 20\n",
    "\n",
    "# read data for a specific scan line\n",
    "raw_line_resp = h5_main[row_ind]\n",
    "# break this up into pixels:\n",
    "raw_line_mat = np.reshape(raw_line_resp, (-1, single_AO.size))\n",
    "# Now visualize:\n",
    "fig, axes = px.plot_utils.plot_loops(single_AO, raw_line_mat, use_rainbow_plots=False, x_label='Bias (V)',\n",
    "                                     y_label='Current (nA)', subtitle_prefix='Pixel', title=None)\n",
    "\n",
    "fig.savefig(os.path.join(other_figures_folder, \n",
    "                         'example_raw_curves_line_' + str(row_ind) +'.png'), \n",
    "            format='png', dpi=150);"
   ]
  },
  {
   "cell_type": "markdown",
   "metadata": {},
   "source": [
    "## Visualizing information in Fourier space\n",
    "Visualizing in the fourier space provides information about the noise floor, frequencies which are noise dominant or signal dominant, etc.\n",
    "\n",
    "This visualization will guide the design of signal filters to remove the noise"
   ]
  },
  {
   "cell_type": "code",
   "execution_count": null,
   "metadata": {},
   "outputs": [],
   "source": [
    "# Preparing the frequency axis:\n",
    "w_vec = 1E-3*np.linspace(-0.5*samp_rate, 0.5*samp_rate - samp_rate/num_pts, num_pts)\n",
    "\n",
    "row_ind = 105\n",
    "F_resp = np.fft.fftshift(np.fft.fft(h5_main[row_ind]))\n",
    "fig, ax = plt.subplots(figsize=(12, 7))\n",
    "ax.axvline(x=1E-3*ex_freq, color='r', linewidth=2, label='Excitation')\n",
    "ax.plot(w_vec[int(0.5*len(w_vec)):], np.log10(np.abs(F_resp[int(0.5*len(w_vec)):])), label='Response')\n",
    "ax.set_xlabel('Frequency (kHz)', fontsize=16)\n",
    "ax.set_ylabel('Amplitude (a.u.)', fontsize=16)\n",
    "ax.legend(fontsize=14)\n",
    "ax.set_xscale('log')\n",
    "ax.set_xlim(1E-2, samp_rate*0.5E-3)\n",
    "ax.set_title('Noise Spectrum for row ' + str(row_ind), fontsize=16)\n",
    "px.plot_utils.set_tick_font_size(ax, 14)\n",
    "\n",
    "fig.savefig(os.path.join(other_figures_folder, \n",
    "                         'noise_spectrum_line_' + str(row_ind) +'.png'), \n",
    "            format='png', dpi=150);"
   ]
  },
  {
   "cell_type": "markdown",
   "metadata": {},
   "source": [
    "## Signal Filtering\n",
    "We use a combination of the following filters to filter noise in the data:\n",
    "1. Low-pass filters\n",
    "2. Noise-threshold filters\n",
    "3. Band-pass and band-stop filters\n",
    "\n",
    "### Testing Filter Parameters:\n",
    "Try various combinations of the filters to find the optimal filter parameters"
   ]
  },
  {
   "cell_type": "code",
   "execution_count": null,
   "metadata": {
    "collapsed": true
   },
   "outputs": [],
   "source": [
    "# Set Filter parameters here:\n",
    "num_spectral_pts = h5_main.shape[1]\n",
    "\n",
    "frequency_filters = [px.processing.fft.LowPassFilter(num_spectral_pts, samp_rate, 10E+3)]\n",
    "noise_tol = 1E-6"
   ]
  },
  {
   "cell_type": "markdown",
   "metadata": {},
   "source": [
    "### Visualizing Filtering Results\n",
    "Run the next cell to see what the IV curves look like for the chosen filter parameters. If the current set of filter parameters do not work as well, change the parameters in the previous cell and try again.\n",
    "\n",
    "Once the results look good, proceed to filter the entire dataset"
   ]
  },
  {
   "cell_type": "code",
   "execution_count": null,
   "metadata": {},
   "outputs": [],
   "source": [
    "# Test filter on a single line:\n",
    "row_ind = 50\n",
    "raw_row = h5_main[row_ind]\n",
    "\n",
    "filt_line, fig_filt, axes_filt = px.processing.gmode_utils.test_filter(raw_row, frequency_filters, noise_threshold=noise_tol, \n",
    "                                             show_plots=True)\n",
    "raw_row = np.reshape(raw_row, (-1, pts_per_cycle))\n",
    "filt_row = filt_line.reshape(-1, pts_per_cycle)\n",
    "\n",
    "fig, axes = px.plot_utils.plot_loops(single_AO, [raw_row, filt_row], dataset_names=['Raw', 'Filtered'],\n",
    "                                     line_colors=['r', 'b'], x_label='Bias (V)', title='FFT Filtering',\n",
    "                                     plots_on_side=3, y_label='Current (nA)',\n",
    "                                     subtitle_prefix='Row: ' + str(row_ind) + ' Col:')\n",
    "\n",
    "fig.savefig(os.path.join(other_figures_folder, 'Example_filtered_loops_from_line_{}.png'.format(row_ind)), format='png', dpi=300)"
   ]
  },
  {
   "cell_type": "markdown",
   "metadata": {},
   "source": [
    "### Filter the entire dataset:\n",
    "Once the optimal filter parameters are chosen, the same parameters can be applied to filter the entire dataset. This can take a few minutes."
   ]
  },
  {
   "cell_type": "code",
   "execution_count": null,
   "metadata": {},
   "outputs": [],
   "source": [
    "sig_filt = px.SignalFilter(h5_main, frequency_filters=frequency_filters, \n",
    "                           noise_threshold=noise_tol, write_filtered=True,\n",
    "                           write_condensed=False, num_pix=1)\n",
    "h5_filt_grp = sig_filt.compute()\n",
    "h5_filt = h5_filt_grp['Filtered_Data']"
   ]
  },
  {
   "cell_type": "markdown",
   "metadata": {},
   "source": [
    "## Restructuring the data\n",
    "G-mode IV data is acquried continuously for a line of scan, the data therefore is of the form `line x time` and needs to be restructured to `row x col x time` where each pixel contains a single period of the sinusoidal excitation waveform"
   ]
  },
  {
   "cell_type": "code",
   "execution_count": null,
   "metadata": {},
   "outputs": [],
   "source": [
    "# Check to see if this restructuring was already performed on the dataset:\n",
    "h5_resh_grp = px.hdf_utils.findH5group(h5_filt, 'Reshape')\n",
    "if len(h5_resh_grp) > 0:\n",
    "    print('Taking previously reshaped results')\n",
    "    h5_resh_grp = h5_resh_grp[-1]\n",
    "    h5_resh = h5_resh_grp['Reshaped_Data'] \n",
    "else:\n",
    "    print('Reshape not performed on this dataset. Reshaping now:')\n",
    "    scan_width = h5_grp.attrs['grid_scan_width_[m]']\n",
    "    h5_resh = px.processing.gmode_utils.reshape_from_lines_to_pixels(h5_filt, pts_per_cycle, scan_width / num_cols)\n",
    "    h5_resh_grp = h5_resh.parent\n",
    "\n",
    "print('Data was reshaped from shape', h5_filt.shape,\n",
    "      'reshaped to ', h5_resh.shape)"
   ]
  },
  {
   "cell_type": "markdown",
   "metadata": {},
   "source": [
    "## Bayesian Inference \n",
    "Now that the data has been filtered and reshaped to rows, columns, and time, we can finally perform Bayesian inference on the reshaped dataset. \n",
    "\n",
    "Try out Bayesian Inference in the cell below:"
   ]
  },
  {
   "cell_type": "code",
   "execution_count": null,
   "metadata": {
    "scrolled": false
   },
   "outputs": [],
   "source": [
    "col = 166\n",
    "row = 116\n",
    "pix_ind = row * num_cols + col\n",
    "i_meas = h5_resh[pix_ind]\n",
    "results = px.analysis.utils.giv_utils.bayesian_inference_on_period(i_meas, single_AO, ex_freq, \n",
    "                                                                   r_extra=110, num_x_steps=250,\n",
    "                                                                   show_plots=True)"
   ]
  },
  {
   "cell_type": "markdown",
   "metadata": {},
   "source": [
    "## Bayesian Inference on dataset\n",
    "Since Bayesian inference is computationally expensive, we have an option to load existing results in the data file"
   ]
  },
  {
   "cell_type": "code",
   "execution_count": null,
   "metadata": {
    "scrolled": false
   },
   "outputs": [],
   "source": [
    "# Load bayesian inference\n",
    "amp_gain = 9\n",
    "i_cleaner = px.GIVBayesian(h5_resh, ex_freq, amp_gain, r_extra=110, num_x_steps=250, cores=3, \n",
    "                           max_mem_mb=1024*10, verbose=True)\n",
    "h5_bayesian_grp = i_cleaner.compute()\n",
    "    \n",
    "bias_interp = np.squeeze(h5_bayesian_grp['Spectroscopic_Values'][()])\n",
    "h5_resistance = h5_bayesian_grp['Resistance']\n",
    "h5_capacitance = h5_bayesian_grp['Capacitance']\n",
    "h5_i_corr_sine = h5_bayesian_grp['Corrected_Current']"
   ]
  },
  {
   "cell_type": "code",
   "execution_count": null,
   "metadata": {
    "collapsed": true
   },
   "outputs": [],
   "source": [
    "#h5_f.close()"
   ]
  },
  {
   "cell_type": "markdown",
   "metadata": {},
   "source": [
    "### Visuaizing Inference Results\n",
    "We will look at the inference results from five randomly chosen pixels"
   ]
  },
  {
   "cell_type": "code",
   "execution_count": null,
   "metadata": {
    "scrolled": false
   },
   "outputs": [],
   "source": [
    "# Visualize Bayesian Inference results\n",
    "num_rand_pos = 2\n",
    "chosen_rows = np.random.randint(0, num_lines, num_rand_pos)\n",
    "chosen_cols = np.random.randint(0, num_cols, num_rand_pos)\n",
    "\n",
    "chosen_cols = [105,48]\n",
    "chosen_rows = [5,18]\n",
    "\n",
    "for r_mode in [False]:\n",
    "    if r_mode:\n",
    "        suffix = '_scatter'\n",
    "    else:\n",
    "        suffix = '_line'\n",
    "    for index in range(num_rand_pos):\n",
    "        pix_ind = chosen_rows[index] * num_cols + chosen_cols[index]\n",
    "        i_meas = h5_resh[pix_ind]\n",
    "        results = px.analysis.utils.giv_utils.bayesian_inference_on_period(i_meas, single_AO, ex_freq, \n",
    "                                                                       r_extra=110, num_x_steps=250,\n",
    "                                                                       show_plots=False)\n",
    "        fig = px.analysis.utils.giv_utils.plot_bayesian_results(single_AO, i_meas, results['IcorrSine'], \n",
    "                                                            results['x'], results['mR'], results['vR'], \n",
    "                                                            i_recon=results['Irec'], broken_resistance=True, \n",
    "                                                            pix_pos=[chosen_rows[index], chosen_cols[index]], \n",
    "                                                            r_max=None, res_scatter=False)\n",
    "        file_name = 'Bayesian_Infer_row_' + str(chosen_rows[index]) + '_col_' + str(chosen_cols[index]) + suffix\n",
    "        fig.savefig(os.path.join(other_figures_folder, file_name + '.png'), format='png', dpi=300)\n",
    "        fig.savefig(os.path.join(other_figures_folder, file_name + '.pdf'), format='pdf', bbox_inches = 'tight', \n",
    "               pad_inches = 2.0)"
   ]
  },
  {
   "cell_type": "markdown",
   "metadata": {},
   "source": [
    "## Visualize current maps at different biases"
   ]
  },
  {
   "cell_type": "code",
   "execution_count": null,
   "metadata": {},
   "outputs": [],
   "source": [
    "num_plots = 16\n",
    "chosen_bias_inds = np.linspace(0, bias_interp.size-1, num_plots, endpoint=True, dtype=np.uint16)\n",
    "currents = np.reshape(h5_resistance[()], (num_lines, num_cols, -1))\n",
    "voltages = bias_interp[chosen_bias_inds]\n",
    "currents = voltages / currents[:, :, chosen_bias_inds]\n",
    "axis_subtitles = ['V = %.2f V'% cur_val for cur_val in voltages]\n",
    "fig, axes = px.plot_utils.plot_map_stack(currents, num_comps=16, color_bar_mode=\"single\", evenly_spaced=True,\n",
    "                   title=axis_subtitles, heading='Current at different voltages', reverse_dims=True,\n",
    "                                        pad_mult=(0.15, 0.07), colorbar_label = 'Current (nA)')\n",
    "\n",
    "fig_name = \"current_slices\"\n",
    "fig.savefig(os.path.join(other_figures_folder, fig_name + '.png'), format='png', dpi=300)\n",
    "fig.savefig(os.path.join(other_figures_folder, fig_name + '.pdf'), format='pdf', dpi=300)"
   ]
  },
  {
   "cell_type": "markdown",
   "metadata": {},
   "source": [
    "## Main trends in the Current\n",
    "We understand the main trends in the current data via K-Means clustering"
   ]
  },
  {
   "cell_type": "code",
   "execution_count": null,
   "metadata": {
    "collapsed": true
   },
   "outputs": [],
   "source": [
    "num_clusters = 7\n",
    "\n",
    "estimators = KMeans(num_clusters)\n",
    "rolled_bias = np.roll(single_AO, -1*h5_i_corr_sine.shape[1] // 4)\n",
    "current_cos = np.roll(h5_i_corr_sine[()], -1*h5_i_corr_sine.shape[1] //4, axis=1)"
   ]
  },
  {
   "cell_type": "markdown",
   "metadata": {},
   "source": [
    "### Forward First:"
   ]
  },
  {
   "cell_type": "code",
   "execution_count": null,
   "metadata": {},
   "outputs": [],
   "source": [
    "results = estimators.fit(current_cos[:, h5_i_corr_sine.shape[1] //2:])\n",
    "labels_forw, centroids_forw = px.processing.cluster.reorder_clusters(results.labels_, \n",
    "                                                                   results.cluster_centers_)\n",
    "fig_lab_forw, fig_centr_forw = plot_cluster_results_separately(labels_forw.reshape(num_lines, num_cols), \n",
    "                                                            centroids_forw, \n",
    "                                                               rolled_bias[h5_i_corr_sine.shape[1] //2:], \n",
    "                                                               legend_mode=2,\n",
    "                                                            x_size=scan_width, y_size=scan_width)\n",
    "\n",
    "file_name = 'k_means_I_corr_forward'\n",
    "for suffix, fig in zip(['_labels', '_centroids'], [fig_lab_forw, fig_centr_forw]):\n",
    "    new_fig_name = fig_name + suffix\n",
    "    fig.savefig(os.path.join(figure_folder, new_fig_name + '.png'), format='png', dpi=300)\n",
    "    fig.savefig(os.path.join(figure_folder, new_fig_name + '.pdf'), format='pdf', bbox_inches = 'tight', \n",
    "               pad_inches = 2.0)"
   ]
  },
  {
   "cell_type": "markdown",
   "metadata": {},
   "source": [
    "### Reverse next:"
   ]
  },
  {
   "cell_type": "code",
   "execution_count": null,
   "metadata": {
    "collapsed": true
   },
   "outputs": [],
   "source": [
    "results = estimators.fit(current_cos[:, :h5_i_corr_sine.shape[1] //2])\n",
    "labels_rev, centroids_rev = px.processing.cluster.reorder_clusters(results.labels_, \n",
    "                                                                   results.cluster_centers_)\n",
    "fig_lab_rev, fig_centr_rev = plot_cluster_results_separately(labels_rev.reshape(num_lines, num_cols), \n",
    "                                                            centroids_rev, \n",
    "                                                               rolled_bias[:h5_i_corr_sine.shape[1] //2], \n",
    "                                                               legend_mode=2,\n",
    "                                                            x_size=scan_width, y_size=scan_width)\n",
    "file_name = 'k_means_I_corr_reverse'\n",
    "for suffix, fig in zip(['_labels', '_centroids'], [fig_lab_rev, fig_centr_rev]):\n",
    "    new_fig_name = fig_name + suffix\n",
    "    fig.savefig(os.path.join(figure_folder, new_fig_name + '.png'), format='png', dpi=300)\n",
    "    fig.savefig(os.path.join(figure_folder, new_fig_name + '.pdf'), format='pdf', bbox_inches = 'tight', \n",
    "               pad_inches = 2.0)"
   ]
  },
  {
   "cell_type": "markdown",
   "metadata": {},
   "source": [
    "## Visualize resistance at different biases"
   ]
  },
  {
   "cell_type": "code",
   "execution_count": null,
   "metadata": {
    "scrolled": false
   },
   "outputs": [],
   "source": [
    "resistances = np.reshape(h5_resistance[()], (num_lines, num_cols, -1))\n",
    "num_plots = 16\n",
    "voltages = bias_interp[np.linspace(0, bias_interp.size-1, num_plots, endpoint=True, dtype=np.uint16)]\n",
    "axis_subtitles = ['V = %.2f V'% cur_val for cur_val in voltages]\n",
    "fig, axes = px.plot_utils.plot_map_stack(resistances, num_comps=16, color_bar_mode=\"single\", evenly_spaced=True,\n",
    "                   title=axis_subtitles, heading='Resistance at different voltages', stdevs=0.05, \n",
    "                                         colorbar_label = 'Resistance (GOhm)')\n",
    "fig.subplots_adjust( wspace = 0.8)\n",
    "\n",
    "\n",
    "fig_name = \"resistance_slices\"\n",
    "fig.savefig(os.path.join(other_figures_folder, fig_name + '.png'), format='png', dpi=300)\n",
    "fig.savefig(os.path.join(other_figures_folder, fig_name + '.pdf'), format='pdf', dpi=300)"
   ]
  },
  {
   "cell_type": "markdown",
   "metadata": {},
   "source": [
    "## Visualize Capacitance "
   ]
  },
  {
   "cell_type": "code",
   "execution_count": null,
   "metadata": {
    "collapsed": true
   },
   "outputs": [],
   "source": [
    "cap_vec = px.io_utils.compound_to_scalar(h5_capacitance[()])\n",
    "cap_vec = cap_vec.mean(axis=1)* 1E+3 # Convert to pF\n",
    "fig, axis = plt.subplots(figsize=(6, 5))\n",
    "_ = px.plot_utils.plot_map(fig, axis, np.reshape(cap_vec, (num_lines, num_cols)), \n",
    "                     x_size=scan_width, y_size=scan_width)\n",
    "axis.set_title('Capacitance (pF)', fontsize=16)\n",
    "axis.set_xlabel('X ($\\mu$m)', fontsize=16)\n",
    "axis.set_ylabel('Y ($\\mu$m)', fontsize=16)\n",
    "#fig.tight_layout()\n",
    "\"\"\"fig.savefig(os.path.join(figure_folder, 'capacitance_map.png'), format='png', dpi=300)\n",
    "fig.savefig(os.path.join(figure_folder, 'capacitance_map.pdf'), format='pdf',bbox_inches = 'tight', pad_inches = 2.0)\"\"\""
   ]
  },
  {
   "cell_type": "markdown",
   "metadata": {},
   "source": [
    "## Extracting Switching Current\n",
    "* The forward switching current is calculated as the difference between the forward and reverse currents for positive biases. \n",
    "* The reverse switching current is calculated as the difference between the reverse and the forward currents for negative biases"
   ]
  },
  {
   "cell_type": "code",
   "execution_count": null,
   "metadata": {},
   "outputs": [],
   "source": [
    "col = 166\n",
    "row = 117\n",
    "pix_ind = row * num_cols + col\n",
    "\n",
    "mr_vec = h5_resistance[pix_ind]\n",
    "\n",
    "half_ind = mr_vec.size // 2\n",
    "\n",
    "yvec_fwd = (bias_interp / mr_vec)[:half_ind]\n",
    "yvec_rev = (bias_interp / mr_vec)[half_ind:]\n",
    "xvec_fwd = bias_interp[:half_ind]\n",
    "xvec_rev = bias_interp[half_ind:]\n",
    "\n",
    "#Set these limits manually\n",
    "pos_coer_ind = np.argmin(np.abs(xvec_fwd - 2))\n",
    "neg_coer_ind = np.argmin(np.abs(xvec_rev - -2))\n",
    "\n",
    "xvec_Pr_fwd = xvec_fwd[pos_coer_ind:]\n",
    "yvec_fwd_switched = yvec_fwd[pos_coer_ind:]\n",
    "# remember that reverse is flipped!\n",
    "yvec_fwd_unswitched = np.flipud(yvec_rev[:(half_ind-pos_coer_ind)])\n",
    "Pr_forward = yvec_fwd_switched-yvec_fwd_unswitched\n",
    "\n",
    "xvec_Pr_rev = xvec_rev[neg_coer_ind:]\n",
    "yvec_rev_switched = yvec_rev[neg_coer_ind:]\n",
    "# remember that reverse is flipped!\n",
    "yvec_rev_unswitched = np.flipud(yvec_fwd[:(half_ind-neg_coer_ind)])\n",
    "Pr_reverse = yvec_rev_switched-yvec_rev_unswitched\n",
    "\n",
    "integral_fwd_trace = np.trapz(Pr_forward, xvec_Pr_fwd)\n",
    "integral_rev_trace = np.trapz(Pr_reverse, xvec_Pr_rev)\n",
    "\n",
    "print ('Areas of fwd switching is: ' + str(abs(round(integral_fwd_trace,4))), \n",
    "       ' and rev is: ', str(round(abs(integral_rev_trace),4)))"
   ]
  },
  {
   "cell_type": "markdown",
   "metadata": {},
   "source": [
    "### Plot the switching current for this pixel"
   ]
  },
  {
   "cell_type": "code",
   "execution_count": null,
   "metadata": {},
   "outputs": [],
   "source": [
    "font_size_1 = 14\n",
    "font_size_2 = 16\n",
    "\n",
    "fig201,ax201 = plt.subplots(nrows=3, figsize=(6,22))\n",
    "ax201[0].plot(xvec_fwd,yvec_fwd , 'r-', linewidth=2, label='Forward')\n",
    "ax201[0].plot(xvec_rev,yvec_rev , 'b-', linewidth=2, label='Reverse')\n",
    "ax201[0].plot(xvec_Pr_fwd, yvec_fwd_switched, \n",
    "              'g--', label='Forward NS')\n",
    "ax201[0].plot(xvec_Pr_rev, yvec_rev_switched, \n",
    "              'k--', label='Reverse NS')\n",
    "lg = ax201[0].legend(fontsize=font_size_1, bbox_to_anchor = [1.0,1.0])\n",
    "lg.get_frame().set_linewidth(0)\n",
    "ax201[0].set_title('Row = ' + str(col) + ' Col = ' + str(row), fontsize=font_size_2)\n",
    "ax201[0].set_ylabel('Current (nA)', fontsize=font_size_2)\n",
    "ax201[0].set_xlabel('Voltage (V)', fontsize=font_size_2)\n",
    "ax201[0].set_ylim(-0.8, 0.8)\n",
    "\n",
    "ax201[1].plot(xvec_Pr_fwd[yvec_fwd_switched<0.80],yvec_fwd_switched[yvec_fwd_switched<0.80], \n",
    "              'b-', linewidth=2, label='Forward')\n",
    "ax201[1].plot(xvec_Pr_fwd,yvec_fwd_unswitched, \n",
    "              'g-', linewidth=2, label='Reverse NS')\n",
    "ax201[1].plot(xvec_Pr_fwd,yvec_fwd_switched-yvec_fwd_unswitched, \n",
    "              'k-', linewidth=2, label='Difference')\n",
    "lg = ax201[1].legend(bbox_to_anchor = [1.0,1.0], fontsize=font_size_1)\n",
    "lg.get_frame().set_linewidth(0)\n",
    "ax201[1].set_xlabel('Voltage (V)', fontsize=font_size_2)\n",
    "ax201[1].set_title('Switching on Forward', fontsize=font_size_2)\n",
    "\n",
    "ax201[2].plot(xvec_Pr_rev,yvec_rev_switched, \n",
    "              'b-', linewidth=2, label='Reverse')\n",
    "ax201[2].plot(xvec_Pr_rev,yvec_rev_unswitched, \n",
    "              'g-', linewidth=2, label='Forward NS')\n",
    "ax201[2].plot(xvec_Pr_rev,yvec_rev_switched-yvec_rev_unswitched, \n",
    "              'k-', linewidth=2, label='Difference')\n",
    "ax201[2].set_ylim(ax201[2].get_ylim()[0], 0.4)\n",
    "lg = ax201[2].legend(bbox_to_anchor = [1.0,1.0], fontsize=font_size_1)\n",
    "lg.get_frame().set_linewidth(0)\n",
    "ax201[2].set_xlabel('Voltage (V)', fontsize=font_size_2)\n",
    "ax201[2].set_title('Switching on Reverse', fontsize=font_size_2)\n",
    "\n",
    "px.plot_utils.set_tick_font_size(ax201, font_size_1)\n",
    "\n",
    "file_name = 'Switched_area_single_point'\n",
    "\n",
    "fig201.savefig(os.path.join(figure_folder, file_name + '.png'), format='png', dpi=300)\n",
    "fig201.savefig(os.path.join(figure_folder, file_name + '.pdf'), format='pdf', bbox_inches = 'tight', \n",
    "           pad_inches = 2.0)"
   ]
  },
  {
   "cell_type": "markdown",
   "metadata": {},
   "source": [
    "## Calculate Polarization\n",
    "\n",
    "Polarization is roughly equal to the area under the 'ears' arising from the switching current"
   ]
  },
  {
   "cell_type": "code",
   "execution_count": null,
   "metadata": {
    "collapsed": true
   },
   "outputs": [],
   "source": [
    "def get_polarization(mr_vec, bias_interp, ex_freq, rev_bias_thresh, forw_bias_thresh, thresh_wind):\n",
    "    half_ind = mr_vec.size // 2\n",
    "\n",
    "    yvec_fwd = (bias_interp / mr_vec)[:half_ind]\n",
    "    yvec_rev = (bias_interp / mr_vec)[half_ind:]\n",
    "    xvec_fwd = bias_interp[:half_ind]\n",
    "    xvec_rev = bias_interp[half_ind:]\n",
    "\n",
    "    #Set these limits manually\n",
    "    pos_coer_ind = np.argmin(np.abs(xvec_fwd - forw_bias_thresh))\n",
    "    neg_coer_ind = np.argmin(np.abs(xvec_rev - rev_bias_thresh))\n",
    "\n",
    "    xvec_Pr_fwd = xvec_fwd[pos_coer_ind:]\n",
    "    yvec_fwd_switched = yvec_fwd[pos_coer_ind:]\n",
    "    # remember that reverse is flipped!\n",
    "    yvec_fwd_unswitched = np.flipud(yvec_rev[:(half_ind-pos_coer_ind)])\n",
    "    Pr_forward = yvec_fwd_switched-yvec_fwd_unswitched\n",
    "\n",
    "    xvec_Pr_rev = xvec_rev[neg_coer_ind:]\n",
    "    yvec_rev_switched = yvec_rev[neg_coer_ind:]\n",
    "    # remember that reverse is flipped!\n",
    "    yvec_rev_unswitched = np.flipud(yvec_fwd[:(half_ind-neg_coer_ind)])\n",
    "    Pr_reverse = yvec_rev_switched-yvec_rev_unswitched\n",
    "\n",
    "    integral_fwd_trace = np.trapz(Pr_forward, xvec_Pr_fwd)\n",
    "    integral_rev_trace = np.trapz(Pr_reverse, xvec_Pr_rev)\n",
    "\n",
    "    #Go from the switched area to the polarization with a simple calculation\n",
    "\n",
    "    time_ratio_fwd = float(len(xvec_Pr_fwd))/float(len(xvec_fwd))\n",
    "    time_ratio_rev =  float(len(xvec_Pr_rev))/float(len(xvec_rev))\n",
    "\n",
    "    #Calculate the integral for this time step\n",
    "    tstep = (1/ex_freq)*0.5 #time per voltage step (half cycle)\n",
    "    t_fwd = np.linspace(0,tstep*time_ratio_fwd, len(xvec_Pr_fwd))\n",
    "    t_rev = np.linspace(0,tstep*time_ratio_rev, len(xvec_Pr_rev))\n",
    "\n",
    "    Q_forward = np.trapz(Pr_forward*1E-9, t_fwd)\n",
    "    Q_reverse = np.trapz(Pr_reverse*1E-9, t_rev)\n",
    "\n",
    "    ind_fwd = np.where(Pr_forward == np.max(Pr_forward))\n",
    "    ind_rev = np.where(Pr_reverse == np.min(Pr_reverse))\n",
    "\n",
    "    v_fwd = xvec_Pr_fwd[ind_fwd]\n",
    "    v_rev = xvec_Pr_rev[ind_rev]\n",
    "    \n",
    "    return {'integrals': [integral_fwd_trace, integral_rev_trace],\n",
    "            'charge': np.abs(np.hstack((Q_forward, Q_reverse))),\n",
    "            'biases': np.hstack((v_fwd,v_rev)), \n",
    "            'indices': np.hstack((ind_fwd,ind_rev)),\n",
    "            'Polarization_Forward': Pr_forward,\n",
    "            'Polarization_Reverse': Pr_reverse} "
   ]
  },
  {
   "cell_type": "code",
   "execution_count": null,
   "metadata": {
    "collapsed": true
   },
   "outputs": [],
   "source": [
    "tstep = (1/ex_freq)*0.5 #time per voltage step (half cycle)\n",
    "\n",
    "# Manual input here:\n",
    "pos_bias = 1.8\n",
    "neg_bias = -1 * pos_bias\n",
    "\n",
    "h5_resistance = h5_bayesian_grp['Resistance']\n",
    "bias_interp = np.squeeze(h5_bayesian_grp['Spectroscopic_Values'][()])\n",
    "\n",
    "half_ind = bias_interp.size // 2\n",
    "\n",
    "integral_area = np.zeros(shape=(num_lines,num_cols,2)) #For forward and reverse, integrate with respect to V\n",
    "Q_integrated = np.zeros(shape=(num_lines,num_cols,2)) #For forward and reverse, integrate with respect to t\n",
    "pos_of_peak = np.zeros(shape=(num_lines,num_cols,2)) #For forward and reverse, voltage where maximum I occurs\n",
    "peak_index = np.zeros(shape=(num_lines,num_cols,2)) #For forward and reverse, index where maximum I occurs\n",
    "\n",
    "# We need to determine the size of the vector which will have switching. We can set the limits manually\n",
    "xvec_fwd = bias_interp[:half_ind]\n",
    "ps_fwd_size = half_ind - np.argmin(np.abs(xvec_fwd - pos_bias))\n",
    "xvec_Pr_fwd = xvec_fwd[np.argmin(np.abs(xvec_fwd - pos_bias)):]\n",
    "time_ratio_fwd = float(len(xvec_Pr_fwd))/float(len(xvec_fwd))\n",
    "\n",
    "# Same for reverse\n",
    "xvec_rev = bias_interp[half_ind:]\n",
    "ps_rev_size = half_ind - np.argmin(np.abs(xvec_rev - neg_bias))\n",
    "\n",
    "#Now initialize the matrices\n",
    "Pswitching_fwd = np.zeros(shape=(num_lines,num_cols, ps_fwd_size)) #For forward and reverse,\n",
    "                            #index where maximum I occurs\n",
    "Pswitching_rev = np.zeros(shape=(num_lines,num_cols, ps_rev_size)) #For forward and reverse, \n",
    "                            #index where maximum I occurs\n",
    "import time\n",
    "t0 = time.time()\n",
    "results = px.processing.parallel_compute(h5_resistance[()], get_polarization, cores=1, \n",
    "                                         func_args=[bias_interp, ex_freq, neg_bias, pos_bias, 0.5])\n",
    "for row_ind in range(num_lines):\n",
    "    for col_ind in range(num_cols):\n",
    "        ret_dict = results[row_ind*num_cols + col_ind ]\n",
    "        integral_area[row_ind,col_ind] = ret_dict['integrals']\n",
    "        Q_integrated[row_ind, col_ind,:] = ret_dict['charge']\n",
    "        pos_of_peak[row_ind,col_ind,:] = ret_dict['biases']\n",
    "        peak_index[row_ind,col_ind,:] = ret_dict['indices']\n",
    "        Pswitching_fwd[row_ind,col_ind,:] = ret_dict['Polarization_Forward']\n",
    "        Pswitching_rev[row_ind,col_ind,:] = ret_dict['Polarization_Reverse']\n",
    "print('Took', time.time()-t0,'seconds')"
   ]
  },
  {
   "cell_type": "code",
   "execution_count": null,
   "metadata": {},
   "outputs": [],
   "source": [
    "tstep = (1/ex_freq)*0.5 #time per voltage step (half cycle)\n",
    "\n",
    "# Manual input here:\n",
    "pos_bias = 1.8\n",
    "neg_bias = -1 * pos_bias\n",
    "\n",
    "h5_resistance = h5_bayesian_grp['Resistance']\n",
    "bias_interp = np.squeeze(h5_bayesian_grp['Spectroscopic_Values'][()])\n",
    "\n",
    "half_ind = bias_interp.size // 2\n",
    "\n",
    "integral_area = np.zeros(shape=(num_lines,num_cols,2)) #For forward and reverse, integrate with respect to V\n",
    "Q_integrated = np.zeros(shape=(num_lines,num_cols,2)) #For forward and reverse, integrate with respect to t\n",
    "pos_of_peak = np.zeros(shape=(num_lines,num_cols,2)) #For forward and reverse, voltage where maximum I occurs\n",
    "peak_index = np.zeros(shape=(num_lines,num_cols,2)) #For forward and reverse, index where maximum I occurs\n",
    "\n",
    "# We need to determine the size of the vector which will have switching. We can set the limits manually\n",
    "xvec_fwd = bias_interp[:half_ind]\n",
    "ps_fwd_size = half_ind - np.argmin(np.abs(xvec_fwd - pos_bias))\n",
    "xvec_Pr_fwd = xvec_fwd[np.argmin(np.abs(xvec_fwd - pos_bias)):]\n",
    "time_ratio_fwd = float(len(xvec_Pr_fwd))/float(len(xvec_fwd))\n",
    "\n",
    "# Same for reverse\n",
    "xvec_rev = bias_interp[half_ind:]\n",
    "ps_rev_size = half_ind - np.argmin(np.abs(xvec_rev - neg_bias))\n",
    "\n",
    "#Now initialize the matrices\n",
    "Pswitching_fwd = np.zeros(shape=(num_lines,num_cols, ps_fwd_size)) #For forward and reverse,\n",
    "                            #index where maximum I occurs\n",
    "Pswitching_rev = np.zeros(shape=(num_lines,num_cols, ps_rev_size)) #For forward and reverse, \n",
    "                            #index where maximum I occurs\n",
    "import time\n",
    "t0 = time.time()\n",
    "\n",
    "for row_ind in range(num_lines):\n",
    "    for col_ind in range(num_cols):\n",
    "        ret_dict = get_polarization(resistances[row_ind,col_ind],bias_interp, ex_freq, neg_bias, pos_bias, 0.5 )\n",
    "        integral_area[row_ind,col_ind] = ret_dict['integrals']\n",
    "        Q_integrated[row_ind, col_ind,:] = ret_dict['charge']\n",
    "        pos_of_peak[row_ind,col_ind,:] = ret_dict['biases']\n",
    "        peak_index[row_ind,col_ind,:] = ret_dict['indices']\n",
    "        Pswitching_fwd[row_ind,col_ind,:] = ret_dict['Polarization_Forward']\n",
    "        Pswitching_rev[row_ind,col_ind,:] = ret_dict['Polarization_Reverse']\n",
    "print('Took', time.time()-t0,'seconds')"
   ]
  },
  {
   "cell_type": "markdown",
   "metadata": {},
   "source": [
    "## Visualize Switching Current\n",
    "Via the area under the switching current curves"
   ]
  },
  {
   "cell_type": "code",
   "execution_count": null,
   "metadata": {
    "scrolled": false
   },
   "outputs": [],
   "source": [
    "num_bins = 1250 #Change as desired for histogram\n",
    "\n",
    "fig203, ax203 = plt.subplots(nrows=3, ncols=2, figsize=(10,12))\n",
    "\n",
    "axes = [ax203[0,0], ax203[1,0], ax203[2,0]]\n",
    "titles = ['Forward Switching Current Area',\n",
    "          'Reverse Switching Current Area',\n",
    "          'Switching current Difference']\n",
    "imgs = [np.abs(integral_area[:,:,0]),\n",
    "        np.abs(integral_area[:,:,1]),\n",
    "        np.abs(integral_area[:,:,0]) - \n",
    "        np.abs(integral_area[:,:,1])]\n",
    "for axis, title, img in zip(axes, titles, imgs):\n",
    "    axis.set_title(title, fontsize=16)\n",
    "    axis.set_ylabel('Y ($\\mu$m)', fontsize=16)\n",
    "    im_hand, cbar_hand = px.plot_utils.plot_map(axis, img, show_xy_ticks=True, \n",
    "                         x_size=scan_width, y_size=scan_width, tick_font_size=14, \n",
    "                         clim=[-0.5, 2])\n",
    "axis.set_xlabel('X ($\\mu$m)', fontsize=16)\n",
    "    \n",
    "\n",
    "im20301 = ax203[0,1].hist(np.abs(integral_area[:,:,0]).ravel(), num_bins)\n",
    "ax203[0,1].set_title('Forward Switching Current Area', fontsize=16)\n",
    "\n",
    "im20301 = ax203[1,1].hist(np.abs(integral_area[:,:,1]).ravel(), num_bins)\n",
    "ax203[1,1].set_title('Reverse Switching Current Area', fontsize=16)\n",
    "\n",
    "im20301 = ax203[2,1].hist((np.abs(integral_area[:,:,0]) -np.abs(integral_area[:,:,1])).ravel(), num_bins)\n",
    "ax203[2,1].set_title('Difference Area', fontsize=16)\n",
    "\n",
    "for axis in [ax203[0,1], ax203[1,1], ax203[2,1]]:\n",
    "    axis.set_ylabel('Counts', fontsize=16)\n",
    "\n",
    "ax203[0,1].set_xticks([])\n",
    "ax203[1,1].set_xticks([])\n",
    "\n",
    "ax203[0,1].set_xlim((0,2))\n",
    "ax203[1,1].set_xlim((0,2))\n",
    "ax203[2,1].set_xlim((0,2))\n",
    "\n",
    "px.plot_utils.set_tick_font_size([ax203[0,1], ax203[1,1], ax203[2,1]], font_size=14)\n",
    "\n",
    "fig203.tight_layout()\n",
    "\n",
    "\"\"\"file_name = 'Switching Area Plots'\n",
    "fig203.savefig(os.path.join(figure_folder, file_name + '.png'), format='png', dpi=300)\n",
    "fig203.savefig(os.path.join(figure_folder, file_name + '.pdf'), format='pdf', bbox_inches = 'tight', \n",
    "           pad_inches = 2.0)\"\"\""
   ]
  },
  {
   "cell_type": "markdown",
   "metadata": {},
   "source": [
    "## Visualize Switched Charge"
   ]
  },
  {
   "cell_type": "code",
   "execution_count": null,
   "metadata": {},
   "outputs": [],
   "source": [
    "fig, axes = twin_img_plots([Q_integrated[:,:,0]*1E12, Q_integrated[:,:,1]*1E12],\n",
    "                     [direction + ' Switching Q (pC)' for direction in ['Forward', 'Reverse']],\n",
    "                     x_size=scan_width, y_size=scan_width, stdevs=1.25, show_xy_ticks=True)\n",
    "\"\"\"file_name = 'Switching_Q'\n",
    "fig.savefig(os.path.join(figure_folder, file_name + '.png'), format='png', dpi=300)\n",
    "fig.savefig(os.path.join(figure_folder, file_name + '.pdf'), format='pdf', bbox_inches = 'tight', \n",
    "           pad_inches = 2.0)\"\"\""
   ]
  },
  {
   "cell_type": "markdown",
   "metadata": {},
   "source": [
    "## Visualize where the switching peaks are"
   ]
  },
  {
   "cell_type": "code",
   "execution_count": null,
   "metadata": {},
   "outputs": [],
   "source": [
    "fig, axes = twin_img_plots([pos_of_peak[:,:,0], pos_of_peak[:,:,1]],\n",
    "                     [direction + ' Switching Maximum Bias (V)' for direction in ['Forward', 'Reverse']],\n",
    "                     x_size=scan_width, y_size=scan_width, stdevs=2, show_xy_ticks=True)\n",
    "\"\"\"file_name = 'Switching_max_bias'\n",
    "fig.savefig(os.path.join(figure_folder, file_name + '.png'), format='png', dpi=300)\n",
    "fig.savefig(os.path.join(figure_folder, file_name + '.pdf'), format='pdf', bbox_inches = 'tight', \n",
    "           pad_inches = 2.0)\"\"\""
   ]
  },
  {
   "cell_type": "markdown",
   "metadata": {},
   "source": [
    "## Polarization\n",
    "\n",
    "Convert Q to polarization:\n",
    "\n",
    "P is half the full charge (-Ps to +Ps = 2Ps)"
   ]
  },
  {
   "cell_type": "code",
   "execution_count": null,
   "metadata": {
    "collapsed": true
   },
   "outputs": [],
   "source": [
    "cap_diameter = 500E-9  # Diameter of cap in m\n",
    "\n",
    "cap_area = np.pi*(cap_diameter/2)**2\n",
    "P_forward = 0.5*(Q_integrated[:,:,0]/(cap_area))  # Polarization in C/m^2, \n",
    "P_forward = P_forward*1E6*1E-4  # Polarization in uC (*1E6) /cm^2 (*1E-4)\n",
    "P_reverse = 0.5*(Q_integrated[:,:,1]/(cap_area)) #Polarization in C/m^2\n",
    "P_reverse = P_reverse*1E6*1E-4  # Polarization in uC (*1E6) /cm^2 (*1E-4)"
   ]
  },
  {
   "cell_type": "markdown",
   "metadata": {},
   "source": [
    "### Now visualize"
   ]
  },
  {
   "cell_type": "code",
   "execution_count": null,
   "metadata": {
    "scrolled": false
   },
   "outputs": [],
   "source": [
    "fig, axes = twin_img_plots([np.abs(P_forward), np.abs(P_reverse)],\n",
    "                     ['Polarization ' + direction + ' ($\\mu$C/cm$^2$)' for direction in ['Forward', 'Reverse']],\n",
    "                     x_size=scan_width, y_size=scan_width, clim=[0,60], show_xy_ticks=True,\n",
    "                          cbar_label = 'Polarization ($\\mu C$ $cm^{-2}$)')\n",
    "file_name = 'Polarization_maps'\n",
    "fig.savefig(os.path.join(figure_folder, file_name + '.png'), format='png', dpi=300)\n",
    "fig.savefig(os.path.join(figure_folder, file_name + '.pdf'), format='pdf', bbox_inches = 'tight', \n",
    "           pad_inches = 2.0)"
   ]
  },
  {
   "cell_type": "code",
   "execution_count": null,
   "metadata": {},
   "outputs": [],
   "source": [
    "fig101, ax101 = plt.subplots(nrows=1,ncols=2, sharey=True, figsize=(10,5))\n",
    "good_P_forward = np.abs(P_forward).ravel()\n",
    "good_P_forward = good_P_forward[np.where(good_P_forward>15)]\n",
    "good_P_forward = good_P_forward[np.where(good_P_forward<120)]\n",
    "\n",
    "good_P_reverse = np.abs(P_reverse).ravel()\n",
    "good_P_reverse = good_P_reverse[np.where(good_P_reverse>10)]\n",
    "good_P_reverse = good_P_reverse[np.where(good_P_reverse<120)]\n",
    "\n",
    "ax101[0].hist(good_P_forward, 150)\n",
    "ax101[1].hist(good_P_reverse, 150)\n",
    "ax101[0].set_xlabel('Polarization Forward ($\\mu$C/cm^2)', fontsize=16)\n",
    "#ax101[0].set_title('$Polarization Forward(\\mu C/cm^2)$', fontsize=16)\n",
    "ax101[1].set_xlabel('Polarization Reverse ($\\mu$C/cm^2)', fontsize=16)\n",
    "#ax101[1].set_title('$Polarization Reverse(\\mu C/cm^2)$', fontsize=16)\n",
    "#ax101[1].set_ylabel('Counts', fontsize=16)\n",
    "ax101[0].set_ylabel('Counts', fontsize=16)\n",
    "ax101[0].set_xlim((15,100))\n",
    "ax101[1].set_xlim((15,100))\n",
    "px.plot_utils.set_tick_font_size(ax101, 14)\n",
    "fig101.tight_layout()\n",
    "\n",
    "\"\"\"file_name = 'P_hist'\n",
    "fig101.savefig(os.path.join(figure_folder, file_name + '.png'), format='png', dpi=300)\n",
    "fig101.savefig(os.path.join(figure_folder, file_name + '.pdf'), format='pdf', bbox_inches = 'tight', \n",
    "           pad_inches = 2.0)\"\"\""
   ]
  },
  {
   "cell_type": "markdown",
   "metadata": {},
   "source": [
    "## Understand nature of the switching events\n",
    "We will do this by using the K-means clustering algorithm to determine the shapes of the curves and their spatial abundance\n",
    "\n",
    "Before performing K-Means, we need to get rid of outliers"
   ]
  },
  {
   "cell_type": "code",
   "execution_count": null,
   "metadata": {},
   "outputs": [],
   "source": [
    "xvec = bias_interp[:half_ind]\n",
    "P_forward_copy = np.copy(np.abs(P_forward).ravel())\n",
    "switching_points = np.where(P_forward_copy>20)\n",
    "\n",
    "Pswitching_fwd_lin = np.copy(Pswitching_fwd).reshape(num_lines*num_cols,-1)\n",
    "\n",
    "P_switching_fwd = Pswitching_fwd_lin[:,:]\n",
    "\n",
    "xvec =xvec_Pr_fwd[:]# xvec[70:]\n",
    "\n",
    "# Getting rid of the handful of outliers:\n",
    "test = np.where(np.abs(P_switching_fwd) > 3)\n",
    "cleaned_p_switch_fwd = np.copy(P_switching_fwd)\n",
    "\n",
    "# For simplicity, set the values of these outlier pixels to 0\n",
    "cleaned_p_switch_fwd[test[0]] = 0\n",
    "\n",
    "# See the distribution of these bad pixels\n",
    "fig, axis = plt.subplots()\n",
    "bad_pix = np.ones(P_switching_fwd.shape[0], dtype=bool)\n",
    "bad_pix[test[0]] = False\n",
    "\n",
    "axis.imshow(bad_pix.reshape(num_lines, num_cols), cmap='gray', origin='lower', alpha=0.5)\n",
    "axis.set_title('Outlier Pixels');"
   ]
  },
  {
   "cell_type": "markdown",
   "metadata": {},
   "source": [
    "### Performing K-means"
   ]
  },
  {
   "cell_type": "code",
   "execution_count": null,
   "metadata": {
    "collapsed": true
   },
   "outputs": [],
   "source": [
    "num_clusters = 12\n",
    "#Do k-means\n",
    "estimators = KMeans(num_clusters)\n",
    "\n",
    "results = estimators.fit(cleaned_p_switch_fwd)\n",
    "labels, cluster_centroids = px.processing.cluster.reorder_clusters(results.labels_, \n",
    "                                                                   results.cluster_centers_)"
   ]
  },
  {
   "cell_type": "markdown",
   "metadata": {},
   "source": [
    "### Visualizing K-means results"
   ]
  },
  {
   "cell_type": "code",
   "execution_count": null,
   "metadata": {},
   "outputs": [],
   "source": [
    "# Plot the kmeans cluster labels\n",
    "fig_lab, fig_centroids = plot_cluster_results_separately(labels.reshape(num_lines, num_cols), \n",
    "                                                         cluster_centroids, xvec_Pr_fwd, legend_mode=2,\n",
    "                                                        x_size=scan_width, y_size=scan_width)\n",
    "\n",
    "file_name = 'GIV_Kmeans_Disorder_Labels'\n",
    "fig_lab.savefig(os.path.join(figure_folder, file_name + '.png'), format='png', dpi=300)\n",
    "fig_lab.savefig(os.path.join(figure_folder, file_name + '.pdf'), format='pdf', bbox_inches = 'tight', \n",
    "           pad_inches = 2.0)\n",
    "\n",
    "file_name = 'GIV_Kmeans_Disorder_Centroids'\n",
    "fig_centroids.savefig(os.path.join(figure_folder, file_name + '.png'), format='png', dpi=300)\n",
    "fig_centroids.savefig(os.path.join(figure_folder, file_name + '.pdf'), format='pdf', bbox_inches = 'tight', \n",
    "           pad_inches = 2.0)"
   ]
  },
  {
   "cell_type": "markdown",
   "metadata": {},
   "source": [
    "## Disorder Analysis\n",
    "\n",
    "Fit the Gaussian at each point ala Shur paper. Look for point where switched fraction = unswitched fraction. \n",
    "Then fit to a Gaussian, with the constraint that the area equals that of the switched fraction"
   ]
  },
  {
   "cell_type": "code",
   "execution_count": null,
   "metadata": {},
   "outputs": [],
   "source": [
    "# Define some functions\n",
    "def gauss1(x,*p1):\n",
    "    A1,x1,sigma1= p1\n",
    "    return (A1*np.exp(-((x-x1)**2)/(2*sigma1*sigma1)))\n",
    "\n",
    "# here you include the penalization factor\n",
    "def residuals(p,x,y):\n",
    "    # Calcualte the area given the whole xvector\n",
    "    fitted_gaussian = gauss1(xvec, *p) #Gaussian, for whole x\n",
    "    integral = np.trapz(fitted_gaussian,xvec) #Area, for whole x\n",
    "    penalization = abs(integral - area_of_Rayleigh)*1E4 #c.f. with area of Rayleigh\n",
    "    return y - gauss1(x, *p) - penalization\n",
    "\n",
    "coef_disorder_fit = np.zeros(shape=(P_switching_fwd.shape[0],3))\n",
    "middle_ind_mat= np.zeros(shape=(P_switching_fwd.shape[0],1))\n",
    "\n",
    "# Fitting guesses\n",
    "p0 = [1, 4E-4, 1E-4] \n",
    "lb = [0,0,0]\n",
    "ub=[1,1,1]\n",
    "bounds = (lb,ub)\n",
    "\n",
    "xvec = np.linspace(0,tstep*time_ratio_fwd, len(xvec_Pr_fwd[:])) #xvec\n",
    "\n",
    "for pix_ind, yvec in enumerate(P_switching_fwd):\n",
    "#If it's a switching event\n",
    "    if pix_ind in switching_points[0]:\n",
    "        # Calculate the area\n",
    "        # del area_of_Rayleigh\n",
    "        global area_of_Rayleigh \n",
    "        area_of_Rayleigh = np.trapz(yvec, xvec)\n",
    "        cum_area = scipy.integrate.cumtrapz(yvec,xvec)\n",
    "\n",
    "        # Take the point where the area is half of the total as the cutoff point\n",
    "        middle_index = np.argsort((cum_area - 0.5*area_of_Rayleigh)**2)[0]\n",
    "        # Smaller x,yvecs\n",
    "        new_x, new_y = xvec[middle_index:],yvec[middle_index:]\n",
    "        \n",
    "        # Apply the area constraint\n",
    "        if len(new_x)>4:\n",
    "            popt2, pcov2 = scipy.optimize.leastsq(func=residuals, x0=p0, args=(new_x,new_y))   \n",
    "            y_fit2 = gauss1(xvec, *popt2)\n",
    "            coef_disorder_fit[pix_ind,:] = popt2\n",
    "            middle_ind_mat[pix_ind,:] = middle_index\n",
    "            "
   ]
  },
  {
   "cell_type": "markdown",
   "metadata": {},
   "source": [
    "### Visualize the disorder fitting\n",
    "At a specific location"
   ]
  },
  {
   "cell_type": "code",
   "execution_count": null,
   "metadata": {},
   "outputs": [],
   "source": [
    "# row, col = 115, 51\n",
    "row, col = 110, 134\n",
    "pix_ind = row * num_cols + col\n",
    "\n",
    "xvec = np.linspace(0,tstep*time_ratio_fwd, len(xvec_Pr_fwd[:]))\n",
    "yvec = P_switching_fwd[pix_ind,:] #yvec\n",
    "new_x = xvec[int(middle_ind_mat[pix_ind][0]):]\n",
    "new_y = yvec[int(middle_ind_mat[pix_ind][0]):]\n",
    "y_fit2 = gauss1(xvec, *coef_disorder_fit[pix_ind,:] )\n",
    "xvec *= 1E+3 # milliseconds\n",
    "\n",
    "fig, axis = plt.subplots(figsize=(5.25,5))\n",
    "axis.plot(xvec, yvec, 'bo', markersize=6)\n",
    "axis.plot(new_x, new_y, 'ro', markersize=6)\n",
    "axis.fill_between(new_x, new_y, 0, where=new_y >= 0, facecolor='green', \n",
    "                  alpha= 0.5, edgecolor = 'w', linewidth=0.0)\n",
    "axis.fill_between(new_x, new_y, 0, where=new_y <= 0, facecolor='green', \n",
    "                  alpha= 0.5, edgecolor = 'w', linewidth=0.0)\n",
    "axis.plot(xvec, y_fit2, linewidth=3, label='Constrained Fit', color='purple')\n",
    "axis.legend(loc='upper left', bbox_to_anchor=(1, 1), fontsize=14)\n",
    "axis.set_ylabel('Current (nA)', fontsize=16)\n",
    "axis.set_xlabel('Time (ms)', fontsize=16)\n",
    "axis.set_title('Disorder Fitting Example', fontsize=16)\n",
    "axis.set_ylim([-0.05, 0.62])\n",
    "plt.ticklabel_format(axis='x', style='sci', scilimits=(-2,2))\n",
    "px.plot_utils.set_tick_font_size(axis, 14)\n",
    "\n",
    "print (coef_disorder_fit[pix_ind,:])\n",
    "print (pix_ind in switching_points[0])\n",
    "\n",
    "file_name = 'Disorder_fit_sp'\n",
    "fig.savefig(os.path.join(figure_folder, file_name + '.png'), format='png', dpi=300)\n",
    "fig.savefig(os.path.join(figure_folder, file_name + '.pdf'), format='pdf', bbox_inches = 'tight', \n",
    "           pad_inches = 2.0)"
   ]
  },
  {
   "cell_type": "markdown",
   "metadata": {},
   "source": [
    "### Visualize the spatial distribution of the Disorder"
   ]
  },
  {
   "cell_type": "code",
   "execution_count": null,
   "metadata": {},
   "outputs": [],
   "source": [
    "fig, axis = plt.subplots(figsize=(6, 5))\n",
    "_, _ = px.plot_utils.plot_map(axis, (coef_disorder_fit[:,2]*1E3).reshape(num_lines, num_cols), \n",
    "                     x_size=scan_width, y_size=scan_width, clim=[0, 0.3], \n",
    "                     cbar_label='$\\sigma\\cdot  10^{-3} (t^{-0.5}$)', aspect='auto')\n",
    "axis.set_xlabel('X ($\\mu$m)', fontsize=16)\n",
    "axis.set_ylabel('Y ($\\mu$m)', fontsize=16)\n",
    "axis.set_title('Disorder Analysis (Forward)', fontsize=16)\n",
    "fig.tight_layout()\n",
    "\n",
    "file_name = 'Disorder_fit_map'\n",
    "fig.savefig(os.path.join(figure_folder, file_name + '.png'), format='png', dpi=300)\n",
    "fig.savefig(os.path.join(figure_folder, file_name + '.pdf'), format='pdf', bbox_inches = 'tight', \n",
    "           pad_inches = 2.0)"
   ]
  },
  {
   "cell_type": "markdown",
   "metadata": {},
   "source": [
    "## Dielectric Constant"
   ]
  },
  {
   "cell_type": "code",
   "execution_count": null,
   "metadata": {
    "collapsed": true
   },
   "outputs": [],
   "source": [
    "e_r = (cap_vec*1E-12 - 0.480E-12)*d/(e0*cap_area)\n",
    "e_r_good = e_r[np.where(e_r<200)].ravel()\n",
    "e_r_good = e_r_good[np.where(e_r_good>0)]\n",
    "\n",
    "fig, axes = plt.subplots(ncols=2, figsize=(11.5, 5))\n",
    "\n",
    "_ = px.plot_utils.plot_map(axes[0], e_r.reshape(num_lines, num_cols), \n",
    "                     x_size=scan_width, y_size=scan_width, clim=[0, 130])\n",
    "axes[0].set_xlabel('X ($\\mu$m)', fontsize=16)\n",
    "axes[0].set_ylabel('Y ($\\mu$m)', fontsize=16)\n",
    "axes[0].set_title('Calculated Dielectric Constant', fontsize=16)\n",
    "\n",
    "axes[1].hist(e_r_good, 150);\n",
    "axes[1].set_title('Dielectric Constant', fontsize=16)\n",
    "axes[1].set_xlabel('Dielectric Constant', fontsize=16)\n",
    "axes[1].set_ylabel('Counts', fontsize=16)\n",
    "px.plot_utils.set_tick_font_size(axes[1], 14)\n",
    "\n",
    "fig.tight_layout()\n",
    "\n",
    "file_name = 'D_hist'\n",
    "fig.savefig(os.path.join(figure_folder, file_name + '.png'), format='png', dpi=300)\n",
    "fig.savefig(os.path.join(figure_folder, file_name + '.pdf'), format='pdf', bbox_inches = 'tight', \n",
    "           pad_inches = 2.0)"
   ]
  },
  {
   "cell_type": "markdown",
   "metadata": {},
   "source": [
    "# Standard IV (s-IV)\n",
    "\n",
    "Just like the analysis with gIV datasets, we begin analysis of sIV datasets by loading the h5 file where the results are stored. "
   ]
  },
  {
   "cell_type": "code",
   "execution_count": null,
   "metadata": {
    "collapsed": true
   },
   "outputs": [],
   "source": [
    "h5_siv_path = px.io_utils.uiGetFile('*.h5')\n",
    "print('Working on SIV file:', h5_siv_path)\n",
    "\n",
    "siv_folder_path, siv_file_name = os.path.split(h5_siv_path)\n",
    "h5_siv_f = h5py.File(h5_siv_path, mode='r+')\n",
    "\n",
    "# Extracting some parameters and handles to the necessary datasets:\n",
    "h5_siv_grp = h5_siv_f['Measurement_000']\n",
    "h5_siv_raw = h5_siv_f['Measurement_000/Channel_000/Raw_Data']\n",
    "siv_num_rows = h5_siv_grp.attrs['num_rows']\n",
    "siv_num_cols = h5_siv_grp.attrs['num_cols']\n",
    "siv_num_bias_pts = h5_siv_raw.shape[1]\n",
    "h5_siv_spec_vals = px.hdf_utils.getAuxData(h5_siv_raw, auxDataName=['Spectroscopic_Values'])[0]\n",
    "siv_excit_wfm = np.squeeze(h5_siv_spec_vals[()])\n",
    "siv_y_label = 'Current (nA)'# px.hdf_utils.get_data_descriptor(h5_siv_raw)"
   ]
  },
  {
   "cell_type": "markdown",
   "metadata": {},
   "source": [
    "## SVD on SIV"
   ]
  },
  {
   "cell_type": "code",
   "execution_count": null,
   "metadata": {
    "collapsed": true
   },
   "outputs": [],
   "source": [
    "h5_siv_svd_grp = px.hdf_utils.findH5group(h5_siv_raw, 'SVD')\n",
    "if len(h5_siv_svd_grp) > 0:\n",
    "    print('Taking previous SVD results')\n",
    "    h5_siv_svd_grp = h5_siv_svd_grp[-1]\n",
    "else:\n",
    "    print('FFT filtering not performed on this dataset. Filtering now:')\n",
    "    proc = px.SVD(h5_siv_raw)\n",
    "    h5_siv_svd_grp = proc.compute()"
   ]
  },
  {
   "cell_type": "markdown",
   "metadata": {},
   "source": [
    "### Visualizing  variance of SVD components"
   ]
  },
  {
   "cell_type": "code",
   "execution_count": null,
   "metadata": {
    "collapsed": true
   },
   "outputs": [],
   "source": [
    "fig_s, axis_s = px.plot_utils.plotScree(h5_siv_svd_grp['S'])\n",
    "fig_s.savefig(os.path.join(other_figures_folder, 'SIV_SVD_S.png'), format='png', dpi=150)"
   ]
  },
  {
   "cell_type": "markdown",
   "metadata": {},
   "source": [
    "### Visualizing abundance maps of SVD endmembers"
   ]
  },
  {
   "cell_type": "code",
   "execution_count": null,
   "metadata": {
    "collapsed": true
   },
   "outputs": [],
   "source": [
    "loadings = np.reshape(h5_siv_svd_grp['U'][:, :16], (siv_num_rows, siv_num_cols, -1))\n",
    "fig_u, axes_u = px.plot_utils.plot_map_stack(loadings, num_comps=loadings.shape[-1], heading='Abundance Maps')\n",
    "fig_u.savefig(os.path.join(other_figures_folder, 'SIV_SVD_U.png'), format='png', dpi=150)"
   ]
  },
  {
   "cell_type": "markdown",
   "metadata": {},
   "source": [
    "### Visualizing endmembers from SVD\n",
    "These are statistically the most important (orthogonal) trends in the IV curves"
   ]
  },
  {
   "cell_type": "code",
   "execution_count": null,
   "metadata": {
    "collapsed": true
   },
   "outputs": [],
   "source": [
    "fig_v, axes_v = px.plot_utils.plot_loops(siv_excit_wfm, h5_siv_svd_grp['V'], evenly_spaced=False, plots_on_side=4,\n",
    "                                         x_label='Bias (V)', y_label=siv_y_label,\n",
    "                                         subtitles='Component', title='SVD Endmembers')\n",
    "fig_v.savefig(os.path.join(other_figures_folder, 'SIV_SVD_V.png'), format='png', dpi=150)"
   ]
  },
  {
   "cell_type": "code",
   "execution_count": null,
   "metadata": {
    "collapsed": true
   },
   "outputs": [],
   "source": [
    "fig, axes = px.plot_utils.plot_loops(siv_excit_wfm, [h5_siv_raw, h5_siv_filt], line_colors=['red','k'], \n",
    "                         dataset_names=['Raw', 'Filtered'], x_label='Bias (V)', \n",
    "                         y_label='Current (nA)', title='SVD Filtering of SIV') "
   ]
  },
  {
   "cell_type": "markdown",
   "metadata": {},
   "source": [
    "## k-Means for understanding principle responses and spatial distribution"
   ]
  },
  {
   "cell_type": "code",
   "execution_count": null,
   "metadata": {
    "collapsed": true,
    "scrolled": false
   },
   "outputs": [],
   "source": [
    "num_clusts = 6\n",
    "estimator = KMeans(n_clusters=num_clusts)\n",
    "\n",
    "proc = px.Cluster(h5_siv_raw, estimator)\n",
    "\n",
    "if proc.duplicate_h5_groups is None:\n",
    "    print('Performing K-means now')\n",
    "    h5_siv_kmeans_grp = proc.compute()\n",
    "else:\n",
    "    print('Taking previous results')\n",
    "    h5_siv_kmeans_grp = proc.duplicate_h5_groups[-1]\n",
    "\n",
    "# fig_km, axes_km = px.plot_utils.plot_cluster_h5_group(h5_siv_kmeans_grp, siv_y_label)\n",
    "\n",
    "fig, axes = plt.subplots(ncols=2, figsize=(11.5,5))\n",
    "_ = px.plot_utils.plot_map(axes[0], np.reshape(h5_siv_kmeans_grp['Labels'][()],(siv_num_rows, siv_num_cols)), \n",
    "                     x_size=scan_width, y_size=scan_width, clim=[0, num_clusts-1], aspect='auto')\n",
    "axes[0].set_xlabel('X ($\\mu$m)', fontsize=16)\n",
    "axes[0].set_ylabel('Y ($\\mu$m)', fontsize=16)\n",
    "axes[0].set_title('K-Means Cluster Labels', fontsize=16)\n",
    "\n",
    "colors = [ plt.cm.viridis(x) for x in np.linspace(0, 1, num_clusts)]\n",
    "for line_ind in range(num_clusts):\n",
    "    axes[1].plot(siv_excit_wfm, h5_siv_kmeans_grp['Mean_Response'][line_ind], #marker ='o', \n",
    "                 label='Cluster ' + str(line_ind), color=colors[line_ind], linewidth=2)\n",
    "axes[1].set_xlabel('Voltage (V)', fontsize=16)\n",
    "axes[1].set_ylabel('Current (nA)', fontsize=16)\n",
    "axes[1].set_title('K-Means Cluster Centroids', fontsize=16)\n",
    "# axes[1].legend(loc='lower right', fontsize=14)\n",
    "axes[1].legend(loc='upper left', bbox_to_anchor=(1, 1.12), fontsize=14)\n",
    "px.plot_utils.set_tick_font_size(axes[1], 14)\n",
    "\n",
    "fig.tight_layout()\n",
    "\n",
    "# fig.savefig(os.path.join(other_figures_folder, 'siv_kmeans.png'), format='png', dpi=200)"
   ]
  },
  {
   "cell_type": "markdown",
   "metadata": {},
   "source": [
    "## Visualizing the raw SIV curve at a given pixel"
   ]
  },
  {
   "cell_type": "code",
   "execution_count": null,
   "metadata": {
    "collapsed": true
   },
   "outputs": [],
   "source": [
    "spectral_point = 170\n",
    "point_siv = [24,39]\n",
    "\n",
    "fig, axes = plt.subplots(ncols=2, figsize=(11.5, 5))\n",
    "_ = px.plot_utils.plot_map(axes[0], np.reshape(h5_siv_raw[:,spectral_point],(siv_num_rows, siv_num_cols)), \n",
    "                     clim=[-1.5,1.5],\n",
    "                     x_size=scan_width, y_size=scan_width) #, cbar_label='Current (nA)')\n",
    "axes[0].set_title('Current Map, V = ' + str(round(siv_excit_wfm[spectral_point],2)) + 'V',\n",
    "                  fontsize=16)\n",
    "axes[0].set_xlabel('X ($\\mu$m)', fontsize=16)\n",
    "axes[0].set_ylabel('Y ($\\mu$m)', fontsize=16)\n",
    "axes[0].plot(point_siv[1],point_siv[0],marker='o', color='r')#, alpha = 0.8)\n",
    "\n",
    "siv_pixel = siv_num_cols * point_siv[0] + point_siv[1]\n",
    "axes[1].plot(siv_excit_wfm, h5_siv_raw[siv_pixel], 'r-', linewidth=2)\n",
    "axes[1].set_xlabel('Voltage (V)', fontsize=16)\n",
    "axes[1].set_ylabel ('Current (nA)', fontsize=16)\n",
    "axes[1].set_title('S I-V Point Measurement', fontsize=16)\n",
    "\n",
    "fig.tight_layout()\n",
    "\n",
    "fig.savefig(os.path.join(figure_folder, 'IVPoint.png'), format='png', dpi=200)\n",
    "fig.savefig(os.path.join(figure_folder, 'IVPoint.eps'), format='eps', dpi=200)"
   ]
  },
  {
   "cell_type": "markdown",
   "metadata": {},
   "source": [
    "## Comparing G-IV with the standard IV at a single location"
   ]
  },
  {
   "cell_type": "code",
   "execution_count": null,
   "metadata": {
    "collapsed": true
   },
   "outputs": [],
   "source": [
    "point_fiv = [120,245] #For the fast IV\n",
    "point_siv = [24,39] #For the standard IV\n",
    "\n",
    "point_fiv_film = [28,18] #For the fast IV\n",
    "point_siv_film = [30,18] #For the standard IV\n",
    "\n",
    "cap_giv_fwd = currents[point_fiv[0],point_fiv[1],:half_ind] #- R2*cap_vec[pix_index,0]\n",
    "cap_giv_rev = currents[point_fiv[0],point_fiv[1],half_ind:] #- R2*cap_vec[pix_index,1]\n",
    "\n",
    "film_giv_fwd = currents[point_fiv_film[0],point_fiv_film[1],:half_ind]\n",
    "film_giv_rev = currents[point_fiv_film[0],point_fiv_film[1],half_ind:]\n",
    "\n",
    "fig, axis = plt.subplots(figsize=(5.5,5.5))\n",
    "\n",
    "siv_pixel = siv_num_cols * point_siv[0] + point_siv[1]\n",
    "axis.plot(siv_excit_wfm, h5_siv_raw[siv_pixel], 'r-', linewidth=2, label = 'Cap S-IV')\n",
    "axis.plot(bias_interp[:half_ind], cap_giv_fwd, 'b-', linewidth=2, label = 'Cap G-IV')\n",
    "axis.plot(bias_interp[half_ind:],cap_giv_rev, 'b-', linewidth=2)\n",
    "\n",
    "siv_pixel = siv_num_cols * point_siv_film[0] + point_siv_film[1]\n",
    "axis.plot(siv_excit_wfm, h5_siv_raw[siv_pixel], 'g-', linewidth=2, label = 'Film S-IV')\n",
    "axis.plot(bias_interp[:half_ind], film_giv_fwd, '-', color='orange', linewidth=2, label = 'Film G-IV')\n",
    "axis.plot(bias_interp[half_ind:], film_giv_rev, '-', color = 'orange', linewidth=2)\n",
    "\n",
    "axis.set_xlabel('$Voltage (V)$', fontsize=14)\n",
    "axis.set_ylabel ('$Current (nA)$', fontsize=14)\n",
    "axis.set_title('I-V Point Comparison', fontsize=16)\n",
    "axis.legend(loc='best', fontsize=14)\n",
    "px.plot_utils.set_tick_font_size(axis, 14)\n",
    "\n",
    "file_name = 'Comparison_IVPoint'\n",
    "fig.savefig(os.path.join(figure_folder, file_name + '.png'), format='png', dpi=300)\n",
    "fig.savefig(os.path.join(figure_folder, file_name + '.pdf'), format='pdf', bbox_inches = 'tight', \n",
    "           pad_inches = 2.0)"
   ]
  },
  {
   "cell_type": "markdown",
   "metadata": {},
   "source": [
    "## Register datasets\n",
    "There was some small spatial drift between the gIV and sIV datasets. We therefore need to register these datasets such that we are able to compare the same areas and pixels. \n",
    "\n",
    "The gIV dataset has 256 rows and 266 columns while the sIV dataset has 40 rows and columns. It is therefore important to either decimate or interpolate the images such that the pixel-to-pixel correspondance is maintained as accurately as possible.\n",
    "\n",
    "Also, by nature of their implementation, gIV introduces substantially lesser spatial drift within the measurement since the gIV measurement takes around 10-20 mins while sIV takes a few hours."
   ]
  },
  {
   "cell_type": "code",
   "execution_count": null,
   "metadata": {
    "collapsed": true
   },
   "outputs": [],
   "source": [
    "giv_img = currents[:,:,128]\n",
    "siv_img = np.reshape(h5_siv_raw[:, 171], (siv_num_rows, siv_num_cols))\n",
    "#siv_interp = scipy.misc.imresize(siv_img, giv_img.shape)\n",
    "siv_interp = scipy.ndimage.interpolation.zoom(siv_img, \n",
    "                                              (giv_img.shape[0]/siv_img.shape[0], \n",
    "                                               giv_img.shape[1]/siv_img.shape[1]))\n",
    "\n",
    "giv_points = [(190, 63), (111, 236), (157, 63), (184, 225)]\n",
    "siv_points = [(190, 17), (111, 182), (157, 19), (190, 175)]"
   ]
  },
  {
   "cell_type": "markdown",
   "metadata": {},
   "source": [
    "### Registration points\n",
    "Here we compare one current slice from each technique and a few features common to both images. "
   ]
  },
  {
   "cell_type": "code",
   "execution_count": null,
   "metadata": {
    "collapsed": true
   },
   "outputs": [],
   "source": [
    "fig, axes = twin_img_plots([giv_img, siv_interp], ['g-IV','s-IV'], \n",
    "                           x_size=scan_width, y_size=scan_width, stdevs=1)\n",
    "colors = ['r','w','orange','b']\n",
    "for coord, col in zip(giv_points, colors):\n",
    "    axes[0].scatter(coord[1], coord[0], color=col, s=100)\n",
    "axes[1].imshow(siv_interp, origin='lower')\n",
    "for coord, col in zip(siv_points, colors):\n",
    "    axes[1].scatter(coord[1], coord[0], color=col, s=100)"
   ]
  },
  {
   "cell_type": "markdown",
   "metadata": {},
   "source": [
    "### Alignment\n",
    "\n",
    "While one could use rigorous image transform algorithms to register one image to another, we chose to simply interpolate and crop images because:\n",
    "* the sIV image has only moved a little to the left compared to the gIV image. \n",
    "* The signal to noise ratio in the sIV dataset is too low for registration algorithms\n",
    "* Only a handful of common capacitors are visible in the s-IV images.\n",
    "\n",
    "The plots below will show that such simple approaches are sufficent in our case since we can get the two images to overlap very well"
   ]
  },
  {
   "cell_type": "code",
   "execution_count": null,
   "metadata": {
    "collapsed": true
   },
   "outputs": [],
   "source": [
    "# normalizing\n",
    "siv_norm = (siv_interp - np.amin(siv_interp))/(np.amax(siv_interp)-np.amin(siv_interp))\n",
    "giv_norm = (giv_img - np.amin(giv_img))/(np.amax(giv_img)-np.amin(giv_img))\n",
    "\n",
    "# cropping\n",
    "x_offset = 45\n",
    "cropped_giv_img = giv_norm[:, x_offset:]\n",
    "cropped_siv_img = siv_norm[:, :-x_offset]\n",
    "\n",
    "# Visualizing:\n",
    "fig, axis = plt.subplots(figsize=(5.5,6))\n",
    "axis.imshow(cropped_giv_img, origin='lower', cmap='Blues', clim=[0.3, 0.7], aspect='auto')\n",
    "axis.imshow(cropped_siv_img, cmap = 'gray', origin='lower', alpha = 0.5, clim=[0.85, 0.95], aspect='auto')\n",
    "axis.set_title('Overlap of aligned sIV and gIV images', fontsize=16)\n",
    "fig.tight_layout()"
   ]
  },
  {
   "cell_type": "markdown",
   "metadata": {},
   "source": [
    "## Comparing gIV and sIV current slices"
   ]
  },
  {
   "cell_type": "code",
   "execution_count": null,
   "metadata": {
    "collapsed": true
   },
   "outputs": [],
   "source": [
    "fig, axes = plt.subplots(nrows=2,ncols=2, figsize=(12,10))\n",
    "\n",
    "cropped_x_size = scan_width*(currents.shape[1]-45)/currents.shape[1]\n",
    "\n",
    "for axis, img, title in zip(axes.flat[:2], \n",
    "                            [currents[:,:,120], currents[:,:,128]],\n",
    "                            ['GIV $I$ at $V = $' + str(round(bias_interp[ind],2)) + ' V' for ind in [121, 128]]):\n",
    "    cropped_giv_img = img[:, 45:]\n",
    "    _ = px.plot_utils.plot_map(axis, cropped_giv_img,\n",
    "                         x_size=cropped_x_size, y_size=scan_width, stdevs=2, cbar_label='Current (nA)')\n",
    "    axis.set_title(title, fontsize=16)\n",
    "    \n",
    "for axis, img, title in zip(axes.flat[2:], \n",
    "                            [np.reshape(h5_siv_raw[:, ind], (siv_num_rows, siv_num_cols)) for ind in [57, 171]],\n",
    "                            ['SIV $I$ at $V = $' + str(round(siv_excit_wfm[ind],2)) + ' V' for ind in [57, 171]]):\n",
    "    \"\"\"\n",
    "    siv_interp = zoom(img, (currents.shape[0]/img.shape[0], currents.shape[1]/img.shape[1]))\n",
    "    cropped_siv_img = siv_interp[:, :-45]\n",
    "    \"\"\"\n",
    "    cropped_siv_img = img[:, :-9]\n",
    "    _ = px.plot_utils.plot_map(fig, axis, cropped_siv_img,\n",
    "                         x_size=cropped_x_size, y_size=scan_width, stdevs=2, cbar_label='Current (nA)')\n",
    "    axis.set_title(title, fontsize=16)\n",
    "    \n",
    "for axis in [axes.flat[0], axes.flat[2]]:\n",
    "    axis.set_ylabel('Y ($\\mu$m)', fontsize=16)\n",
    "for axis in axes.flat[2:]:\n",
    "    axis.set_xlabel('X ($\\mu$m)', fontsize=16)\n",
    "\n",
    "file_name = 'SIV_GIV_current_slices_registered'\n",
    "fig.savefig(os.path.join(figure_folder, file_name + '.png'), format='png', dpi=300)\n",
    "fig.savefig(os.path.join(figure_folder, file_name + '.pdf'), format='pdf', bbox_inches = 'tight', \n",
    "           pad_inches = 2.0)"
   ]
  },
  {
   "cell_type": "markdown",
   "metadata": {},
   "source": [
    "## Current maps at switching biases"
   ]
  },
  {
   "cell_type": "code",
   "execution_count": null,
   "metadata": {
    "collapsed": true
   },
   "outputs": [],
   "source": [
    "cropped_x_size = scan_width*(currents.shape[1]-45)/currents.shape[1]\n",
    "\n",
    "targ_volts = [-3.75, 3.75]\n",
    "neg_inds = np.argwhere(np.abs(bias_interp - targ_volts[0]) < 0.05)\n",
    "pos_inds = np.argwhere(np.abs(bias_interp - targ_volts[1]) < 0.05)\n",
    "volt_inds = np.squeeze(np.array([neg_inds[0], pos_inds[0], neg_inds[1], pos_inds[1]]))\n",
    "\n",
    "giv_slices = [currents[:,:,ind] for ind in volt_inds]\n",
    "\n",
    "chosen_data = np.array(giv_slices)\n",
    "chosen_avg = np.mean(chosen_data)\n",
    "chosen_std = np.std(chosen_data)\n",
    "stdevs = 1.75\n",
    "clims = [chosen_avg - stdevs * chosen_std,\n",
    "         chosen_avg + stdevs * chosen_std]\n",
    "for cmap in ['viridis', 'bwr']:\n",
    "    fig, axes = plt.subplots(nrows=2,ncols=2, figsize=(12,10))\n",
    "    for axis, ind, img, direction in zip(axes.flat, volt_inds, giv_slices,\n",
    "                                         ['Forw','Forw','Rev','Rev']):\n",
    "        cropped_giv_img = img[:, 45:]\n",
    "        _ = px.plot_utils.plot_map(axis, cropped_giv_img,\n",
    "                             x_size=cropped_x_size, y_size=scan_width, \n",
    "                             clim=clims, cbar_label='Current (nA)',\n",
    "                             cmap=cmap)\n",
    "        axis.set_title('GIV $I_{' + direction + '}$ at $V = $' + str(round(bias_interp[ind],2)) + \n",
    "                       ' V', fontsize=16)\n",
    "   \n",
    "    file_name = 'GIV_current_slices_forw_rev_' + cmap\n",
    "    fig.savefig(os.path.join(figure_folder, file_name + '.png'), format='png', dpi=300)\n",
    "    fig.savefig(os.path.join(figure_folder, file_name + '.pdf'), format='pdf', bbox_inches = 'tight')"
   ]
  },
  {
   "cell_type": "markdown",
   "metadata": {},
   "source": [
    "## gIV current maps for all biases"
   ]
  },
  {
   "cell_type": "code",
   "execution_count": null,
   "metadata": {
    "collapsed": true
   },
   "outputs": [],
   "source": [
    "cur_mean = np.mean(currents)\n",
    "cur_std = np.std(currents)\n",
    "stdevs=2\n",
    "clims = [cur_mean - stdevs * cur_std, \n",
    "         cur_mean + stdevs * cur_std]\n",
    "\n",
    "cropped_giv_img = currents[:, 45:, 0]\n",
    "fig, axis = plt.subplots(figsize=(6,5))    \n",
    "im_handle, cbar_handle = px.plot_utils.plot_map(axis, cropped_giv_img,\n",
    "                     x_size=cropped_x_size, y_size=scan_width, clim=clims, cbar_label='Current (nA)')\n",
    "axis.set_ylabel('Y ($\\mu$m)', fontsize=16)\n",
    "axis.set_xlabel('X ($\\mu$m)', fontsize=16)\n",
    "\n",
    "for v_ind in range(currents.shape[2]):\n",
    "    cropped_giv_img = currents[:, 45:, v_ind]\n",
    "    im_handle.set_data(cropped_giv_img)\n",
    "    bias_val = str(round(bias_interp[v_ind],2))\n",
    "    axis.set_title('GIV $I$ at $V = $' + bias_val + ' V', fontsize=16)\n",
    "    file_name = 'giv_cropped_current_slice_' + str(v_ind) + '_' + bias_val\n",
    "    fig.savefig(os.path.join(other_figures_folder, file_name + '.png'), format='png', dpi=300)"
   ]
  },
  {
   "cell_type": "markdown",
   "metadata": {},
   "source": [
    "## SIV current maps for all biases"
   ]
  },
  {
   "cell_type": "code",
   "execution_count": null,
   "metadata": {
    "collapsed": true
   },
   "outputs": [],
   "source": [
    "siv_currents = np.reshape(h5_siv_raw[()], (siv_num_rows, siv_num_cols, h5_siv_raw.shape[1]))\n",
    "cur_mean = np.mean(siv_currents)\n",
    "cur_std = np.std(siv_currents)\n",
    "stdevs=1.5\n",
    "clims = [cur_mean - stdevs * cur_std, \n",
    "         cur_mean + stdevs * cur_std]\n",
    "\n",
    "cropped_siv_img = currents[:, :-9, 0]\n",
    "fig, axis = plt.subplots(figsize=(6,5))    \n",
    "im_handle, cbar_handle = px.plot_utils.plot_map(axis, cropped_siv_img,\n",
    "                     x_size=cropped_x_size, y_size=scan_width, clim=clims, cbar_label='Current (nA)')\n",
    "axis.set_ylabel('Y ($\\mu$m)', fontsize=16)\n",
    "axis.set_xlabel('X ($\\mu$m)', fontsize=16)\n",
    "\n",
    "for v_ind in range(siv_currents.shape[2]):\n",
    "    cropped_siv_img = siv_currents[:, :-9, v_ind]\n",
    "    im_handle.set_data(cropped_siv_img)\n",
    "    bias_val = str(round(siv_excit_wfm[v_ind],2))\n",
    "    axis.set_title('SIV $I$ at $V = $' + bias_val + ' V', fontsize=16)\n",
    "    file_name = 'siv_cropped_current_slice_' + str(v_ind) + '_' + bias_val\n",
    "    fig.savefig(os.path.join(other_figures_folder, file_name + '.png'), format='png', dpi=300)"
   ]
  },
  {
   "cell_type": "code",
   "execution_count": null,
   "metadata": {
    "collapsed": true
   },
   "outputs": [],
   "source": [
    "# Done processing the data. Close the file\n",
    "h5_f.close()\n",
    "h5_siv_f.close()"
   ]
  },
  {
   "cell_type": "code",
   "execution_count": null,
   "metadata": {
    "collapsed": true
   },
   "outputs": [],
   "source": []
  }
 ],
 "metadata": {
  "anaconda-cloud": {},
  "kernelspec": {
   "display_name": "Python [default]",
   "language": "python",
   "name": "python3"
  },
  "language_info": {
   "codemirror_mode": {
    "name": "ipython",
    "version": 3
   },
   "file_extension": ".py",
   "mimetype": "text/x-python",
   "name": "python",
   "nbconvert_exporter": "python",
   "pygments_lexer": "ipython3",
   "version": "3.5.2"
  }
 },
 "nbformat": 4,
 "nbformat_minor": 2
}
