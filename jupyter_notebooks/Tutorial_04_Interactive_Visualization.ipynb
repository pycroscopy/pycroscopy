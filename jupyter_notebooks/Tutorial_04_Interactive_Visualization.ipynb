{
 "cells": [
  {
   "cell_type": "markdown",
   "metadata": {},
   "source": [
    "# Tutorial 4: Interactive Data Visualization\n",
    "\n",
    "#### Suhas Somnath\n",
    "8/8/2017\n",
    "\n",
    "This set of tutorials will serve as examples for developing end-to-end workflows for and using pycroscopy. \n",
    "\n",
    "__In this example, we will learn how to visualize multidimensional datasets interactively using widgets.__"
   ]
  },
  {
   "cell_type": "markdown",
   "metadata": {},
   "source": [
    "![notebook_rules.png](notebook_rules.png)\n",
    "\n",
    "Image courtesy of Jean Bilheux from the [neutron imaging](https://github.com/neutronimaging/python_notebooks) GitHub repository."
   ]
  },
  {
   "cell_type": "markdown",
   "metadata": {},
   "source": [
    "## Introduction\n",
    "\n",
    "Often, one is interested in interactively visualizing multidimensional data to better understand and interpret data. Jupyter Widgets make such interactivity possible. We will be demonstrating a simple interactive visualizer that will slice a 6 dimensional dataset to visualize 2 dimensional spectrograms according to the interactive slicing parameters.  "
   ]
  },
  {
   "cell_type": "code",
   "execution_count": null,
   "metadata": {},
   "outputs": [],
   "source": [
    "# Make sure needed packages are installed and up-to-date\n",
    "import sys\n",
    "# !conda install --yes --prefix {sys.prefix} numpy scipy matplotlib scikit-learn Ipython ipywidgets h5py\n",
    "# !{sys.executable} -m pip install -U --no-deps pycroscopy  # this will automatically install pyUSID as well"
   ]
  },
  {
   "cell_type": "code",
   "execution_count": null,
   "metadata": {},
   "outputs": [],
   "source": [
    "# Ensure python 3 compatibility:\n",
    "from __future__ import division, print_function, absolute_import, unicode_literals\n",
    "\n",
    "# The package for accessing files in directories, etc.:\n",
    "import os\n",
    "import wget\n",
    "\n",
    "# The mathematical computation package:\n",
    "import numpy as np\n",
    "\n",
    "# The package used for creating and manipulating HDF5 files:\n",
    "import h5py\n",
    "\n",
    "# Packages for plotting:\n",
    "import matplotlib.pyplot as plt\n",
    "\n",
    "# basic interactive widgets:\n",
    "from IPython.display import display\n",
    "import ipywidgets as widgets\n",
    "\n",
    "sys.path.append('../../pyUSID/')\n",
    "# Finally import pycroscopy for certain scientific analysis:\n",
    "sys.path.append('..')\n",
    "import pycroscopy as px\n",
    "\n",
    "# set up notebook to show plots within the notebook\n",
    "% matplotlib inline"
   ]
  },
  {
   "cell_type": "markdown",
   "metadata": {},
   "source": [
    "## Load the dataset\n",
    "\n",
    "For this example, we will be working with a Band Excitation Polarization Switching (BEPS) First Order Reversal Curve (FORC) dataset acquired from advanced atomic force microscopes. In the much simpler Band Excitation (BE) imaging datasets, a single spectra is acquired at each location in a two dimensional grid of spatial locations. Thus, BE imaging datasets have two position dimensions (X, Y) and one spectroscopic dimension (frequency - against which the spectra is recorded). The BEPS-FORC dataset used in this example has a spectra for each combination of three other paramaters (DC offset, Field, bias waveform type {FORC}). Thus, this dataset has three new spectral dimensions in addition to the spectra itself. Hence, this dataet becomes a 2+4 = 6 dimensional dataset"
   ]
  },
  {
   "cell_type": "code",
   "execution_count": null,
   "metadata": {},
   "outputs": [],
   "source": [
    "# download the raw data file from Github:\n",
    "h5_path = 'temp.h5'\n",
    "url = 'https://raw.githubusercontent.com/pycroscopy/pycroscopy/master/data/BELine_0004.h5'\n",
    "if os.path.exists(h5_path):\n",
    "    os.remove(h5_path)\n",
    "_ = wget.download(url, h5_path)"
   ]
  },
  {
   "cell_type": "code",
   "execution_count": null,
   "metadata": {},
   "outputs": [],
   "source": [
    "# Open the file in read-only mode\n",
    "h5_file = h5py.File(h5_path, mode='r')\n",
    "\n",
    "print('Datasets and datagroups within the file:\\n------------------------------------')\n",
    "px.hdf_utils.print_tree(h5_file)"
   ]
  },
  {
   "cell_type": "code",
   "execution_count": null,
   "metadata": {},
   "outputs": [],
   "source": [
    "h5_meas_grp = h5_file['Measurement_000']\n",
    "h5_main = px.PycroDataset(h5_meas_grp['Channel_000/Raw_Data'])\n",
    "print('\\nThe main dataset:\\n------------------------------------')\n",
    "print(h5_main)"
   ]
  },
  {
   "cell_type": "markdown",
   "metadata": {},
   "source": [
    "The main dataset clearly does not provide the multidimensional information about the data that will be necessary to slice the data. For that we need the ancillary datasets that support this main dataset"
   ]
  },
  {
   "cell_type": "code",
   "execution_count": null,
   "metadata": {},
   "outputs": [],
   "source": [
    "# pycroscopy has a convenient function to access datasets linked to a given dataset:\n",
    "h5_spec_ind = h5_main.h5_spec_inds\n",
    "h5_spec_val = h5_main.h5_spec_vals\n",
    "h5_pos_ind = h5_main.h5_pos_inds\n",
    "h5_pos_val = h5_main.h5_pos_vals"
   ]
  },
  {
   "cell_type": "markdown",
   "metadata": {},
   "source": [
    "### Understanding the dimensionality of the data\n",
    "As described in an earlier tutorial, the ancillary datasets are absolutely essential for understanding, slicing, and reshaping the main dataset"
   ]
  },
  {
   "cell_type": "code",
   "execution_count": null,
   "metadata": {},
   "outputs": [],
   "source": [
    "pos_dim_sizes = h5_main.pos_dim_sizes\n",
    "spec_dim_sizes = h5_main.spec_dim_sizes\n",
    "\n",
    "spec_labels = h5_main.spec_dim_labels\n",
    "pos_labels = h5_main.pos_dim_labels\n",
    "\n",
    "print('Positions:',pos_dim_sizes, '\\nSpectroscopic:', spec_dim_sizes)\n",
    "\n",
    "print('\\nPosition dimensions and their sizes:')\n",
    "for label, dim_size in zip(pos_labels, pos_dim_sizes):\n",
    "    print(label, ':', dim_size)\n",
    "    \n",
    "print('\\nSpectroscopic dimensions and their sizes:')\n",
    "for label, dim_size in zip(spec_labels, spec_dim_sizes):\n",
    "    print(label, ':', dim_size)"
   ]
  },
  {
   "cell_type": "markdown",
   "metadata": {},
   "source": [
    "### Visualizing the ancillary datasets:\n",
    "\n",
    "The position datasets are shaped as [spatial points, dimension] while the spectroscopic datasets are shaped as [dimension, spectral points]. Clearly the first axis of the position dataset and the second axis of the spectroscopic datasets match the correponding sizes of the main dataset.\n",
    "\n",
    "Below are some plots that show how the position and spectroscopic dimensions vary"
   ]
  },
  {
   "cell_type": "code",
   "execution_count": null,
   "metadata": {},
   "outputs": [],
   "source": [
    "fig_1, axes = plt.subplots(ncols=2, figsize=(10,5))\n",
    "px.plot_utils.plot_line_family(axes[0], np.arange(h5_pos_ind.shape[0]), h5_pos_ind[()].T, \n",
    "                               line_names=pos_labels)\n",
    "axes[0].set_xlabel('Position points')\n",
    "axes[0].set_ylabel('Index')\n",
    "axes[0].set_title('Position Indices')\n",
    "axes[0].legend()\n",
    "px.plot_utils.plot_line_family(axes[1], np.arange(h5_spec_ind.shape[1]), h5_spec_ind, \n",
    "                               line_names=spec_labels)\n",
    "axes[1].set_xlabel('Spectroscopic points')\n",
    "axes[1].set_title('Spectroscopic Indices')\n",
    "axes[1].legend()\n",
    "\n",
    "fig_2, axes = plt.subplots(ncols=3, nrows=2, figsize=(15,10))\n",
    "for dim_ind, axis, dim_label, dim_array in zip([0,2], [axes.flat[0], axes.flat[3]], \n",
    "                                               [spec_labels[0], spec_labels[2]], \n",
    "                                               [h5_spec_ind[0,:500], h5_spec_ind[2,:500]]):\n",
    "    axis.plot(np.arange(dim_array.size), dim_array)\n",
    "    axis.set_xlabel('Spectroscopic points')\n",
    "    axis.set_ylabel('Index')\n",
    "    axis.set_title('Dim ' + str(dim_ind) + ' - ' + dim_label)\n",
    "    \n",
    "rhs_axes = [axes.flat[ind] for ind in [1,2,4,5]]\n",
    "for dim_ind, axis, dim_label, dim_array in zip(range(h5_spec_ind.shape[0]), rhs_axes, spec_labels, h5_spec_ind):\n",
    "    axis.plot(np.arange(dim_array.size), dim_array)\n",
    "    axis.set_xlabel('Spectroscopic points')\n",
    "    axis.set_ylabel('Index')\n",
    "    axis.set_title('Dim ' + str(dim_ind) + ' - ' + dim_label)"
   ]
  },
  {
   "cell_type": "markdown",
   "metadata": {
    "collapsed": true
   },
   "source": [
    "## Preparing the Main dataset\n",
    "\n",
    "Visualization in itself mainly involves slicing the multidimensional dataet to get the lower dimensional images / line plots that can be plotted. Thus, we need to be familar with slicing multidimensional arrays. We have a tutorial on this topic that show two approaches for slicing data. \n",
    "1. The easier method - reshape the data to N dimensions and slice the dataset\n",
    "2. The harder method - find the spectroscopic and position indices of interest and slice the 2D dataset\n",
    "\n",
    "We will be using the first approach for illustrative purposes. However, note that the second approach may need to be used when visualizing very large datasets that cannot feasibly be loaded entirely into memory - something we do in the first approach. \n",
    "\n",
    "We will use convenient pycroscopy function that safely reshapes the data to its N dimensional form with a single line. Note that while this approach appears simple on the surface, there are a fair number of lines of code that make up this function."
   ]
  },
  {
   "cell_type": "code",
   "execution_count": null,
   "metadata": {},
   "outputs": [],
   "source": [
    "ds_nd, success, labels = px.hdf_utils.reshape_to_Ndims(h5_main, get_labels=True)\n",
    "print('Shape of the N-dimensional dataset:', ds_nd.shape)\n",
    "print(labels)"
   ]
  },
  {
   "cell_type": "markdown",
   "metadata": {},
   "source": [
    "Now that we have the data in its original N dimensional form, we can easily slice the dataset. For example, if we want to visulize the spectrogram at the third row, second coulmn, fir the first field, and the second cycle, we would slice as follows:"
   ]
  },
  {
   "cell_type": "code",
   "execution_count": null,
   "metadata": {},
   "outputs": [],
   "source": [
    "spectrogram = ds_nd[2,3, :, 0, :, 1]\n",
    "# Now the spectrogram is of order (frequency x DC_Offset).\n",
    "spectrogram = spectrogram.T\n",
    "# Now the spectrogram is of order (DC_Offset x frequency)"
   ]
  },
  {
   "cell_type": "markdown",
   "metadata": {},
   "source": [
    "## Preparing static plots\n",
    "Before getting into interactive plots, it is prudent to prototype what the plots would look like for example paramaeters. This provides an oppurtunity to debug and fine tune details such as the tick labels etc. The same code can and will be reused when setting up interactive plots. \n",
    "\n",
    "### Basic plots:\n",
    "This is the very basic that could be done for visualization. For more systematic visualization, we will tweak the font sizes, tick labels, etc. in the next cell."
   ]
  },
  {
   "cell_type": "code",
   "execution_count": null,
   "metadata": {},
   "outputs": [],
   "source": [
    "fig, axes = plt.subplots(nrows=1,ncols=2, sharey=True, figsize=(12,5))\n",
    "\n",
    "for axis_ind, axis, oper, title in zip(range(2), axes, [np.abs, np.angle],\n",
    "                                       ['Amplitude (a.u.)', 'Phase (rad)']):\n",
    "    im1 = axis.imshow(oper(spectrogram), origin='lower')\n",
    "    axis.set_title(title)\n",
    "    axis.set_xlabel('Frequency (index)')\n",
    "    if axis_ind == 0: \n",
    "        axis.set_ylabel('DC Offset (index)')\n",
    "\n",
    "plt.tight_layout()"
   ]
  },
  {
   "cell_type": "markdown",
   "metadata": {},
   "source": [
    "For nicer looking plots we need to prepare a few arrays and ancillary pieces of information for the plots:"
   ]
  },
  {
   "cell_type": "code",
   "execution_count": null,
   "metadata": {},
   "outputs": [],
   "source": [
    "# Prepare the points at which x and y ticks will be inserted.\n",
    "# Here, we want five evenly spaced tick marks that cover each axis\n",
    "# We prepare this ahead of the for loop since this is the same for each plot\n",
    "x_ticks = np.linspace(0, spectrogram.shape[1] - 1, 5, dtype=np.uint16)\n",
    "y_ticks = np.linspace(0, spectrogram.shape[0] - 1, 5, dtype=np.uint16)\n",
    "\n",
    "# We will call this handy function to get the values for the frequency, DC offset\n",
    "# and all other spectral dimensions. These will be necessary for the X and Y\n",
    "# tick labels for the plots and for the interactive elements.\n",
    "unit_spec_vals = px.hdf_utils.get_unit_values(h5_spec_ind, h5_spec_val)"
   ]
  },
  {
   "cell_type": "markdown",
   "metadata": {},
   "source": [
    "With the ancillary information prepared, we can upgrade the plots"
   ]
  },
  {
   "cell_type": "code",
   "execution_count": null,
   "metadata": {},
   "outputs": [],
   "source": [
    "# Use this appraoch to add colorbars to plots\n",
    "from mpl_toolkits.axes_grid1 import make_axes_locatable\n",
    "\n",
    "fig, axes = plt.subplots(nrows=1,ncols=2, sharey=True, figsize=(12,7))\n",
    "\n",
    "for axis_ind, axis, oper, scale, title in zip(range(2), axes, \n",
    "                                              [np.abs, np.angle], [1E+3, 1],\n",
    "                                              ['$Amplitude$ (a.u.)', \n",
    "                                               '$Phase$ (rad)']):\n",
    "    im1 = axis.imshow(scale*oper(spectrogram), origin='lower')\n",
    "    # This is the procedure to add the colorbar:\n",
    "    divider = make_axes_locatable(axis)\n",
    "    cax = divider.append_axes(\"right\", size=\"5%\", pad=0.15)\n",
    "    cbar = plt.colorbar(im1, cax = cax, format=\"%.1f\")\n",
    "    cbar.ax.tick_params(labelsize=14)\n",
    "    # Adding the standard labels and titles:\n",
    "    axis.set_title(title, fontsize=18)\n",
    "    axis.set_xlabel('Frequency (kHz)', fontsize=16)\n",
    "    if axis_ind: # second axis\n",
    "        axis.set_yticks([])\n",
    "    else:\n",
    "        axis.set_yticklabels(unit_spec_vals['DC_Offset'][y_ticks])\n",
    "        axis.set_ylabel('DC Offset (V)', fontsize=16)\n",
    "    # Custom x and y ticks\n",
    "    axis.set_xticks(x_ticks)\n",
    "    axis.set_yticks(y_ticks)\n",
    "    axis.set_xticklabels(np.round(unit_spec_vals['Frequency'][x_ticks]*1E-3,1))\n",
    "    \n",
    "px.plot_utils.set_tick_font_size(axes, 14)\n",
    "\n",
    "plt.tight_layout()"
   ]
  },
  {
   "cell_type": "markdown",
   "metadata": {},
   "source": [
    "## Constructing Interactive Plots\n",
    "\n",
    "We will be using __ipython widgets__ to add the interactivity to the above plots. \n",
    "\n",
    "ipython has a variety of widgets available and we will only be using sliders for simplicity. See this link - https://github.com/jupyter-widgets/ipywidgets/blob/master/docs/source/examples/Index.ipynb for more information\n",
    "\n",
    "The process mainly contains three parts or sections\n",
    "1. Generating static plots - same as the cell above\n",
    "2. The function that will update the spectrograms upon change of parameters\n",
    "    * This function will be called each time the interactive parameters are updated\n",
    "    * We use the provided parameters to slice the N dimensional main dataset\n",
    "    * To ensure smooth interactivity, we only update the data within the plots instead of calling the imshow function again\n",
    "3. Set up of the interactive parameters and calling the interact function\n",
    "    * Any number of widgets can be used with the interact function\n",
    "    * The values for each slider are specified as a range: (start, stop, step)\n",
    "    * The parameters for interact are specified as a dictionary\n",
    "    \n",
    "All three components can be incorporated into generalized functions wherever applicable"
   ]
  },
  {
   "cell_type": "code",
   "execution_count": null,
   "metadata": {},
   "outputs": [],
   "source": [
    "spec_dim_names_rem = [item for item in spec_dim_names if item not in ['Frequency', 'DC_Offset']]"
   ]
  },
  {
   "cell_type": "code",
   "execution_count": null,
   "metadata": {},
   "outputs": [],
   "source": [
    "# SECTION 1 - STATIC PLOTS ----------------------------------\n",
    "\n",
    "# The only difference with the previous cell is that this time, we hang onto\n",
    "# the image handles so that we can update the plots\n",
    "im_handles = [] \n",
    "\n",
    "fig, axes = plt.subplots(nrows=1,ncols=2, sharey=True, figsize=(12,7))\n",
    "\n",
    "for axis_ind, axis, oper, scale, title in zip(range(2), axes, \n",
    "                                              [np.abs, np.angle], [1E+3, 1],\n",
    "                                              ['$Amplitude$ (a.u.)', \n",
    "                                               '$Phase$ (rad)']):\n",
    "    im1 = axis.imshow(scale*oper(spectrogram), origin='lower')\n",
    "    # Add this image handle to the list above:\n",
    "    im_handles.append(im1)\n",
    "    \n",
    "    # This is the procedure to add the colorbar:\n",
    "    divider = make_axes_locatable(axis)\n",
    "    cax = divider.append_axes(\"right\", size=\"5%\", pad=0.15)\n",
    "    cbar = plt.colorbar(im1, cax = cax, format=\"%.1f\")\n",
    "    cbar.ax.tick_params(labelsize=14)\n",
    "    # Adding the standard labels and titles:\n",
    "    axis.set_title(title, fontsize=18)\n",
    "    axis.set_xlabel('Frequency (kHz)', fontsize=16)\n",
    "    if axis_ind: # second axis\n",
    "        axis.set_yticks([])\n",
    "    else:\n",
    "        axis.set_yticklabels(unit_spec_vals['DC_Offset'][y_ticks])\n",
    "        axis.set_ylabel('DC Offset (V)', fontsize=16)\n",
    "    # Custom x and y ticks\n",
    "    axis.set_xticks(x_ticks)\n",
    "    axis.set_yticks(y_ticks)\n",
    "    axis.set_xticklabels(np.round(unit_spec_vals['Frequency'][x_ticks]*1E-3,1))\n",
    "px.plot_utils.set_tick_font_size(axes, 14)\n",
    "plt.tight_layout()\n",
    "\n",
    "# SECTION 2 - UPDATING FUNCTION ----------------------------------\n",
    "\n",
    "def update_spectrograms(**parms):\n",
    "    # step 1: extracting the parameters\n",
    "    col_ind = parms['X']\n",
    "    row_ind = parms['Y']\n",
    "    field_ind = parms['Field']\n",
    "    cycle_ind = parms['Cycle']\n",
    "    \n",
    "    print('Parameters received by updated_spectrogram:', parms)\n",
    "    \n",
    "    # step 2: slicing the data to get the spectrogram\n",
    "    spectrogram = ds_nd[col_ind,row_ind, :, field_ind, :, cycle_ind]\n",
    "    # Now the spectrogram is of order (frequency x DC_Offset).\n",
    "    spectrogram = spectrogram.T\n",
    "    # Now the spectrogram is of order (DC_Offset x frequency)\n",
    "    \n",
    "    # step 3: only update the data of each plot instead of redrawing:\n",
    "    for im_handle, oper, scale in zip(im_handles, [np.abs, np.angle], [1E+3, 1]):\n",
    "        im_handle.set_data(scale*oper(spectrogram))\n",
    "    \n",
    "    # step 4: request to update the figure:\n",
    "    display(fig)\n",
    "    \n",
    "# SECTION 3 - SET UP PARAMETERS FOR AND CALL INTERACTIVE FUNCTION -------------\n",
    "\n",
    "# make this more automated:\n",
    "parms = {'X':(0,4,1), 'Y':(0,4,1), 'Cycle':(0,1,1), 'Field':(0,1,1)}\n",
    "\n",
    "widgets.interact(update_spectrograms, **parms);"
   ]
  },
  {
   "cell_type": "markdown",
   "metadata": {},
   "source": [
    "## Closing the file"
   ]
  },
  {
   "cell_type": "code",
   "execution_count": null,
   "metadata": {},
   "outputs": [],
   "source": [
    "h5_file.close()\n",
    "os.remove(h5_path)"
   ]
  }
 ],
 "metadata": {
  "anaconda-cloud": {},
  "kernelspec": {
   "display_name": "Python 3",
   "language": "python",
   "name": "python3"
  },
  "language_info": {
   "codemirror_mode": {
    "name": "ipython",
    "version": 3
   },
   "file_extension": ".py",
   "mimetype": "text/x-python",
   "name": "python",
   "nbconvert_exporter": "python",
   "pygments_lexer": "ipython3",
   "version": "3.6.5"
  }
 },
 "nbformat": 4,
 "nbformat_minor": 1
}
