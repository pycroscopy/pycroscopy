{
 "cells": [
  {
   "cell_type": "markdown",
   "metadata": {},
   "source": [
    "# G-Mode Signal Filtering and Visualization\n",
    "### Suhas and Stephen Jesse\n",
    "The Center for Nanophase Materials Science and The Institute for Functional Imaging for Materials <br>\n",
    "Oak Ridge National Laboratory<br>\n",
    "5/05/2017\n",
    "\n",
    "Supplementary Material for Journal paper:\n",
    "### Rapid mapping of polarization switching through complete information acquisition\n",
    "**Suhas Somnath, Alex Belianinov, Sergei V. Kalinin & Stephen Jesse** <br>\n",
    "[Nature Communications](https://www.nature.com/articles/ncomms13290) volume 7, Article number: 13290 (2016) <br>"
   ]
  },
  {
   "cell_type": "markdown",
   "metadata": {},
   "source": [
    "![notebook_rules.png](notebook_rules.png)\n",
    "\n",
    "Image courtesy of Jean Bilheux from the [neutron imaging](https://github.com/neutronimaging/python_notebooks) GitHub repository."
   ]
  },
  {
   "cell_type": "markdown",
   "metadata": {},
   "source": [
    "## Configure the notebook\n",
    "This notebook is guaranteed to work for the following versions of the G-mode related packages and is **not guaranteed** to work for past or future versions - \n",
    "* [pyUSID](https://pycroscopy.github.io/pyUSID/about.html) - Version 0.0.4\n",
    "* [pycroscopy](https://pycroscopy.github.io/pycroscopy/about.html) - Version 0.60.1\n",
    "\n",
    "The following cell should ensure that the necessary packages are installed. "
   ]
  },
  {
   "cell_type": "code",
   "execution_count": null,
   "metadata": {
    "collapsed": true
   },
   "outputs": [],
   "source": [
    "# Make sure needed packages are installed and up-to-date\n",
    "import sys\n",
    "!conda install --yes --prefix {sys.prefix} numpy scipy matplotlib scikit-learn Ipython ipywidgets h5py\n",
    "!{sys.executable} -m pip install -U --no-deps pyUSID\n",
    "!{sys.executable} -m pip install -U --no-deps pycroscopy"
   ]
  },
  {
   "cell_type": "code",
   "execution_count": null,
   "metadata": {
    "collapsed": true
   },
   "outputs": [],
   "source": [
    "import sys\n",
    "sys.path.append('/Users/syz/PycharmProjects/pyUSID/')\n",
    "sys.path.append('/Users/syz/PycharmProjects/pycroscopy/')"
   ]
  },
  {
   "cell_type": "code",
   "execution_count": null,
   "metadata": {
    "collapsed": true
   },
   "outputs": [],
   "source": [
    "# Ensure python 3 compatibility\n",
    "from __future__ import division, print_function, absolute_import, unicode_literals\n",
    "\n",
    "# Import necessary libraries:\n",
    "# General utilities:\n",
    "from os import path\n",
    "\n",
    "# Computation:\n",
    "import numpy as np\n",
    "import h5py\n",
    "\n",
    "# Visualization:\n",
    "import matplotlib.pyplot as plt\n",
    "from IPython.display import display, HTML\n",
    "\n",
    "# Finally, pyUSID and pycroscopy:\n",
    "import pyUSID as usid\n",
    "import pycroscopy as px\n",
    "\n",
    "# Make Notebook take up most of page width\n",
    "display(HTML(data=\"\"\"\n",
    "<style>\n",
    "    div#notebook-container    { width: 95%; }\n",
    "    div#menubar-container     { width: 65%; }\n",
    "    div#maintoolbar-container { width: 99%; }\n",
    "</style>\n",
    "\"\"\"))\n",
    "\n",
    "save_plots = False\n",
    "\n",
    "print('Using pyUSID version: {}'.format(usid.__version__))\n",
    "print('Using pycroscopy version: {}'.format(px.__version__))"
   ]
  },
  {
   "cell_type": "code",
   "execution_count": null,
   "metadata": {
    "collapsed": true
   },
   "outputs": [],
   "source": [
    "# set up notebook to show plots within the notebook\n",
    "%matplotlib notebook"
   ]
  },
  {
   "cell_type": "markdown",
   "metadata": {},
   "source": [
    "## Format the data according to the USID model\n",
    "Structuring the raw data according to the **Universal Spectroscopy and Imaging Data (USID)** model into a hierarchical data format (HDF or .h5) file gives you access to the fast fitting algorithms and powerful analysis functions within pycroscopy\n",
    "\n",
    "#### You can load either of the following:\n",
    "* Any **raw** .mat or .txt parameter files generated from the original experiment - the data will be translated to HDF5 before proceeding with additional processing\n",
    "* The USID .h5 file generated after the raw data was translated to HDF5\n",
    "\n",
    "You can select desired file type by choosing the second option in the pull down menu on the bottom right of the file window"
   ]
  },
  {
   "cell_type": "code",
   "execution_count": null,
   "metadata": {
    "collapsed": true
   },
   "outputs": [],
   "source": [
    "input_file_path = usid.io_utils.file_dialog(caption='Select translated .h5 file or raw experiment data',\n",
    "                                        file_filter='Parameters for raw G-Line data (*.txt);; \\\n",
    "                                        Translated file (*.h5)')\n",
    "folder_path, _ = path.split(input_file_path)\n",
    "\n",
    "if input_file_path.endswith('.txt'):\n",
    "    print('Translating raw data to h5. Please wait')\n",
    "    tran = px.GLineTranslator()\n",
    "    h5_path = tran.translate(input_file_path)\n",
    "else:\n",
    "    h5_path = input_file_path\n",
    "\n",
    "print('Working on:\\n' + h5_path)"
   ]
  },
  {
   "cell_type": "markdown",
   "metadata": {},
   "source": [
    "## Open the .h5 file and inspect its contents:"
   ]
  },
  {
   "cell_type": "code",
   "execution_count": null,
   "metadata": {
    "collapsed": true
   },
   "outputs": [],
   "source": [
    "h5_file = h5py.File(h5_path)\n",
    "\n",
    "print('Datasets and datagroups within the file:\\n------------------------------------')\n",
    "usid.hdf_utils.print_tree(h5_file)"
   ]
  },
  {
   "cell_type": "markdown",
   "metadata": {},
   "source": [
    "Data in USID is stored in 2D dataset referred to as ``Main`` datasets. In this case, ``Raw_Data`` is the ``Main`` dataset. Four ``ancillary`` datasets (``Spectroscopic_Indices``, ``Spectroscopic_Values``, ``Position_Indices``, ``Position_Values``) support the ``Main`` dataset to provide additional functionality and meaning that will be realized through ``USIDataset`` objects in ``pyUSID``. For additional information and tutorials on these concepts, please see the documentation on the ``pyUSID`` website.\n",
    "\n",
    "## Get Reference to Raw Data"
   ]
  },
  {
   "cell_type": "code",
   "execution_count": null,
   "metadata": {
    "collapsed": true
   },
   "outputs": [],
   "source": [
    "h5_main = usid.hdf_utils.find_dataset(h5_file, 'Raw_Data')[-1]\n",
    "print(h5_main)"
   ]
  },
  {
   "cell_type": "markdown",
   "metadata": {},
   "source": [
    "## Extract necessary parameters:"
   ]
  },
  {
   "cell_type": "code",
   "execution_count": null,
   "metadata": {
    "collapsed": true
   },
   "outputs": [],
   "source": [
    "parms_dict = parms_dict = usid.hdf_utils.get_attributes(h5_main.parent.parent)\n",
    "\n",
    "samp_rate = parms_dict['IO_rate_[Hz]']\n",
    "ex_freq = parms_dict['BE_center_frequency_[Hz]']\n",
    "\n",
    "pixel_ex_wfm = h5_main.h5_spec_vals[0, :int(h5_main.h5_spec_vals.shape[1]/parms_dict['grid_num_cols'])]\n",
    "\n",
    "pts_per_pix = pixel_ex_wfm.size\n",
    "pts_per_line = h5_main.shape[1]"
   ]
  },
  {
   "cell_type": "markdown",
   "metadata": {},
   "source": [
    "## Inspect the raw data:"
   ]
  },
  {
   "cell_type": "code",
   "execution_count": null,
   "metadata": {
    "collapsed": true
   },
   "outputs": [],
   "source": [
    "row_ind = 40\n",
    "raw_row = h5_main[row_ind].reshape(-1, pts_per_pix)\n",
    "\n",
    "fig, axes = usid.plot_utils.plot_curves(pixel_ex_wfm, raw_row, x_label='Bias (V)', \n",
    "                                        y_label='Deflection (V)', title='Raw Measurement',\n",
    "                                        num_plots=4,  subtitle_prefix='Row: ' + str(row_ind) + ' Col:')"
   ]
  },
  {
   "cell_type": "markdown",
   "metadata": {},
   "source": [
    "Clearly, the raw data itself is unintelligible. Some filtering is definitely required!\n",
    "\n",
    "## Visualizing information in Fourier space\n",
    "Visualizing in the fourier space provides information about the noise floor, frequencies which are noise dominant or signal dominant, etc.\n",
    "\n",
    "This visualization will guide the design of signal filters to remove the noise"
   ]
  },
  {
   "cell_type": "code",
   "execution_count": null,
   "metadata": {
    "collapsed": true
   },
   "outputs": [],
   "source": [
    "# Preparing the frequency axis:\n",
    "w_vec = 1E-3*np.linspace(-0.5*samp_rate, 0.5*samp_rate - samp_rate/pts_per_line, pts_per_line)\n",
    "\n",
    "row_ind = 40\n",
    "F_resp = np.fft.fftshift(np.fft.fft(h5_main[row_ind]))\n",
    "fig, ax = plt.subplots(figsize=(12, 7))\n",
    "ax.axvline(x=1E-3*ex_freq, color='r', linewidth=2, label='Excitation')\n",
    "ax.plot(w_vec[int(0.5*len(w_vec)):], np.log10(np.abs(F_resp[int(0.5*len(w_vec)):])), label='Response')\n",
    "ax.set_xlabel('Frequency (kHz)', fontsize=16)\n",
    "ax.set_ylabel('Amplitude (a.u.)', fontsize=16)\n",
    "ax.legend(fontsize=14)\n",
    "ax.set_xscale('log')\n",
    "ax.set_xlim(ex_freq*1E-4, samp_rate*0.5E-3)\n",
    "ax.set_title('Noise Spectrum for row ' + str(row_ind), fontsize=16)\n",
    "px.plot_utils.set_tick_font_size(ax, 14)\n",
    "if save_plots:\n",
    "    fig.savefig(os.path.join(other_figures_folder, \n",
    "                             'noise_spectrum_line_' + str(row_ind) +'.png'), \n",
    "                format='png', dpi=150);"
   ]
  },
  {
   "cell_type": "markdown",
   "metadata": {},
   "source": [
    "## Try different FFT filters on the data\n",
    "\n",
    "Pycroscopy has an object caled **SignalFilter** that handles some common frequency-domain filters. We will be passing different combinations of filter objects to filter the data. \n",
    "\n",
    "Below, we use a handy utility called **partial** to preconfigure the constant portions of the individual filter objects such as the length of the signal, excitation frequency, sampling rate, etc. \n",
    "\n",
    "Good combinations for frequency filters are:\n",
    "* Just a HarmonicPassFilter\n",
    "* LowPassFilter + NoiseBandFilter\n",
    "\n",
    "It is always a good idea to combine these frequency filters with noise thresholding. Try setting noise tolerance values of 1E-6 to 1E-3"
   ]
  },
  {
   "cell_type": "code",
   "execution_count": null,
   "metadata": {
    "collapsed": true
   },
   "outputs": [],
   "source": [
    "from functools import partial\n",
    "# Pre-configuring filters here:\n",
    "p_hpf = partial(px.processing.fft.HarmonicPassFilter, signal_length=pts_per_line, \n",
    "                samp_rate=samp_rate, first_freq=ex_freq)\n",
    "p_lpf = partial(px.processing.fft.LowPassFilter, signal_length=pts_per_line, \n",
    "                samp_rate=samp_rate)\n",
    "p_nbf = partial(px.processing.fft.NoiseBandFilter, signal_length=pts_per_line, \n",
    "                samp_rate=samp_rate)\n",
    "\n",
    "# Now only provide the custom values for the individual filter functions:\n",
    "hpf = p_hpf(band_width=1E+3, num_harm=10)\n",
    "lpf = p_lpf(f_cutoff=110E+3)\n",
    "nbf = p_nbf(freqs=[0], freq_widths=[17E+3])\n",
    "\n",
    "# Now pick the combination of filters that will be used\n",
    "filter_combo = [hpf]\n",
    "noise_thresh = 1E-4\n",
    "\n",
    "# Initialize the SignalFilter object that will actually apply the filters:\n",
    "cleaner = px.processing.SignalFilter(h5_main, frequency_filters=filter_combo, noise_threshold=noise_thresh, \n",
    "                                     num_pix=1, write_filtered=True, write_condensed=False)\n",
    "# Test filter on a single line:\n",
    "row_ind = 40\n",
    "filt_row, fig_fft, fig_loops = cleaner.test(pix_ind=row_ind, excit_wfm=pixel_ex_wfm)\n",
    "\n",
    "if save_plots:\n",
    "    fig_fft.savefig(path.join(folder_path, 'FFT_filter_on_line_{}.png'.format(row_ind)), format='png', dpi=300)"
   ]
  },
  {
   "cell_type": "markdown",
   "metadata": {},
   "source": [
    "## Visualizing the filtered loops more closely:"
   ]
  },
  {
   "cell_type": "code",
   "execution_count": null,
   "metadata": {
    "collapsed": true
   },
   "outputs": [],
   "source": [
    "filt_pixels = filt_row.reshape(-1, pixel_ex_wfm.size)\n",
    "fig, axes = usid.plot_utils.plot_curves(pixel_ex_wfm, filt_pixels, x_label='Bias (V)', title='FFT Filtering',\n",
    "                                        num_plots=16, y_label='Deflection (a.u.)',\n",
    "                                        subtitle_prefix='Row: ' + str(row_ind) + ' Col:')\n",
    "if save_plots:\n",
    "    fig.savefig(path.join(folder_path, 'FFT_filtered_loops_on_line_{}.png'.format(row_ind)), format='png', dpi=300)"
   ]
  },
  {
   "cell_type": "markdown",
   "metadata": {},
   "source": [
    "## Apply selected filter to entire dataset"
   ]
  },
  {
   "cell_type": "code",
   "execution_count": null,
   "metadata": {
    "collapsed": true
   },
   "outputs": [],
   "source": [
    "h5_filt_grp = cleaner.compute()\n",
    "h5_filt = h5_filt_grp['Filtered_Data']"
   ]
  },
  {
   "cell_type": "code",
   "execution_count": null,
   "metadata": {
    "collapsed": true
   },
   "outputs": [],
   "source": [
    "# Test to make sure the filter gave the same results\n",
    "filt_pixels = h5_filt[row_ind].reshape(-1, pixel_ex_wfm.size)\n",
    "fig, axes = usid.plot_utils.plot_curves(pixel_ex_wfm, filt_pixels, x_label='Bias (V)', title='FFT Filtering',\n",
    "                                        num_plots=16, y_label='Deflection (a.u.)',\n",
    "                                        subtitle_prefix='Row: ' + str(row_ind) + ' Col:')"
   ]
  },
  {
   "cell_type": "markdown",
   "metadata": {},
   "source": [
    "## Now break up the filtered lines into \"pixels\"\n",
    "Also visualize loops from different pixels"
   ]
  },
  {
   "cell_type": "code",
   "execution_count": null,
   "metadata": {
    "collapsed": true
   },
   "outputs": [],
   "source": [
    "# h5_resh = h5_filt_grp['Filtered_Data-Reshape_000/Reshaped_Data']\n",
    "h5_resh = px.processing.gmode_utils.reshape_from_lines_to_pixels(h5_filt, pixel_ex_wfm.size, 1)\n",
    "fig, axes = px.plot_utils.plot_loops(pixel_ex_wfm, h5_resh, x_label='Bias (V)', title='FFT Filtering',\n",
    "                                     plots_on_side=5, y_label='Deflection (a.u.)')\n",
    "# fig.savefig(path.join(folder_path, 'FFT_filtered_loops_on_line_{}.png'.format(row_ind)), format='png', dpi=300)"
   ]
  },
  {
   "cell_type": "code",
   "execution_count": null,
   "metadata": {
    "collapsed": true
   },
   "outputs": [],
   "source": [
    "hdf.close()"
   ]
  },
  {
   "cell_type": "code",
   "execution_count": null,
   "metadata": {
    "collapsed": true
   },
   "outputs": [],
   "source": []
  }
 ],
 "metadata": {
  "anaconda-cloud": {},
  "kernelspec": {
   "display_name": "Python [default]",
   "language": "python",
   "name": "python3"
  },
  "language_info": {
   "codemirror_mode": {
    "name": "ipython",
    "version": 3
   },
   "file_extension": ".py",
   "mimetype": "text/x-python",
   "name": "python",
   "nbconvert_exporter": "python",
   "pygments_lexer": "ipython3",
   "version": "3.5.2"
  }
 },
 "nbformat": 4,
 "nbformat_minor": 1
}
