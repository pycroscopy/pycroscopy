{
 "cells": [
  {
   "cell_type": "markdown",
   "metadata": {},
   "source": [
    "## using the atom_stats : pycroscopy/stats/atom_stats_n.py"
   ]
  },
  {
   "cell_type": "code",
   "execution_count": null,
   "metadata": {},
   "outputs": [],
   "source": [
    "import numpy as np\n",
    "import matplotlib.pyplot as plt\n",
    "import SciFiReaders as sr\n",
    "from analysis_funcs import *\n",
    "import sys\n",
    "sys.path.insert(0, r'/Users/rvv/Github/pycroscopy')\n",
    "from copy import deepcopy\n",
    "import pyTEMlib\n",
    "import pyTEMlib.file_tools as ft     # File input/ output library\n",
    "import pyTEMlib.image_tools as it\n",
    "import pyTEMlib.probe_tools\n",
    "import skimage\n",
    "# from atomseries import *"
   ]
  },
  {
   "cell_type": "code",
   "execution_count": null,
   "metadata": {},
   "outputs": [],
   "source": [
    "#Let's start with a single image. Let's view it first...\n",
    "data_file = r'0pC 8nmFOV MAADF 82.tif'\n",
    "ir = sr.ImageReader(data_file)\n",
    "img_data = ir.read()\n",
    "img_data.plot();"
   ]
  },
  {
   "cell_type": "code",
   "execution_count": null,
   "metadata": {},
   "outputs": [],
   "source": [
    "#Find atoms---> return_atoms_LR can be anyfunction which returns coordinates of the atoms \n",
    "atoms_found = return_atoms_LR(img_data, atom_size = 0.06, threshold = 0.01)# custom atom finder from Rama"
   ]
  },
  {
   "cell_type": "code",
   "execution_count": null,
   "metadata": {},
   "outputs": [],
   "source": [
    "from pycroscopy.stats.atom_stats_n import LocalCrystallography_n as lcn\n",
    "from ase import Atoms"
   ]
  },
  {
   "cell_type": "code",
   "execution_count": null,
   "metadata": {},
   "outputs": [],
   "source": [
    "# img_data -> sidpy dataset \n",
    "dataset = img_data\n",
    "dataset.data_descriptor\n",
    "coordinates = atoms_found \n",
    "# Convert the coordinates to a list of tuples\n",
    "positions = [(x, y, 0) for y, x in coordinates]\n",
    "\n",
    "# Create an ASE Atoms object\n",
    "atoms = Atoms('H{}'.format(len(positions)), positions=positions)"
   ]
  },
  {
   "cell_type": "code",
   "execution_count": null,
   "metadata": {},
   "outputs": [],
   "source": [
    "dataset.structures[\"struct_key\"] = atoms"
   ]
  },
  {
   "cell_type": "code",
   "execution_count": null,
   "metadata": {},
   "outputs": [],
   "source": [
    "lcn_ = lcn(dataset=dataset, struct = \"struct_key\")"
   ]
  }
 ],
 "metadata": {
  "language_info": {
   "name": "python"
  }
 },
 "nbformat": 4,
 "nbformat_minor": 2
}
